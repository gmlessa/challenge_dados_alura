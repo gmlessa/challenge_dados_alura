{
  "nbformat": 4,
  "nbformat_minor": 0,
  "metadata": {
    "colab": {
      "provenance": [],
      "authorship_tag": "ABX9TyPZdrQs6/GVhVYRrZMZXFX6",
      "include_colab_link": true
    },
    "kernelspec": {
      "name": "python3",
      "display_name": "Python 3"
    },
    "language_info": {
      "name": "python"
    }
  },
  "cells": [
    {
      "cell_type": "markdown",
      "metadata": {
        "id": "view-in-github",
        "colab_type": "text"
      },
      "source": [
        "<a href=\"https://colab.research.google.com/github/gmlessa/challenge_dados_alura/blob/main/Challenge_Dados_Semana_2.ipynb\" target=\"_parent\"><img src=\"https://colab.research.google.com/assets/colab-badge.svg\" alt=\"Open In Colab\"/></a>"
      ]
    },
    {
      "cell_type": "markdown",
      "source": [
        "#Importanto e analisando o banco de dados"
      ],
      "metadata": {
        "id": "eENZMateUa8F"
      }
    },
    {
      "cell_type": "markdown",
      "source": [
        "##Importando bibliotecas a serem usadas"
      ],
      "metadata": {
        "id": "1siF3CYxUye4"
      }
    },
    {
      "cell_type": "code",
      "execution_count": 86,
      "metadata": {
        "id": "BXy9_HYt7eiB"
      },
      "outputs": [],
      "source": [
        "import pandas as pd\n",
        "import numpy as np\n",
        "import matplotlib.pyplot as plt\n",
        "import seaborn as sns"
      ]
    },
    {
      "cell_type": "code",
      "source": [
        "dados = pd.read_csv(\"https://raw.githubusercontent.com/gmlessa/challenge_dados_alura/main/dados_unidos_por_id.csv\")\n",
        "dados.head()"
      ],
      "metadata": {
        "colab": {
          "base_uri": "https://localhost:8080/",
          "height": 287
        },
        "id": "-4VHLPxr8GUA",
        "outputId": "6fae3d02-ea89-42c6-9ccd-c640871dfc2f"
      },
      "execution_count": 87,
      "outputs": [
        {
          "output_type": "execute_result",
          "data": {
            "text/plain": [
              "   idade_pessoa  salario_pessoa situacao_propriedade_pessoa  \\\n",
              "0          34.0         50000.0                     Própria   \n",
              "1          23.0         54000.0                     Aluguel   \n",
              "2          27.0         42000.0                     Aluguel   \n",
              "3          29.0         84000.0                     Própria   \n",
              "4          29.0         35000.0                     Aluguel   \n",
              "\n",
              "   tempo_trabalhado_pessoa     motivo_emprestimo pontuacao_emprestimo  \\\n",
              "0                      2.0              Personal                    B   \n",
              "1                      3.0  Pagamento de débitos                    A   \n",
              "2                      2.0                Médico                    A   \n",
              "3                     11.0             Educativo                    B   \n",
              "4                      2.0             Educativo                    A   \n",
              "\n",
              "   valor_emprestimo  taxa_juros_emprestimo  status_emprestimo  \\\n",
              "0           12000.0                    NaN                0.0   \n",
              "1            6250.0                   6.99                0.0   \n",
              "2            6550.0                   7.88                0.0   \n",
              "3           15000.0                  12.18                0.0   \n",
              "4            3600.0                   8.94                0.0   \n",
              "\n",
              "   porcentagem_salario_emprestimo foi_inadimplente_cb  \\\n",
              "0                            0.24                   N   \n",
              "1                            0.12                   N   \n",
              "2                            0.16                   N   \n",
              "3                            0.18                   N   \n",
              "4                            0.10                   N   \n",
              "\n",
              "   tempo_primeira_solicitacao_credito_cb  \n",
              "0                                      9  \n",
              "1                                      3  \n",
              "2                                      8  \n",
              "3                                     10  \n",
              "4                                     10  "
            ],
            "text/html": [
              "\n",
              "  <div id=\"df-2892e210-21b6-4cde-a1a2-dc28470515c7\">\n",
              "    <div class=\"colab-df-container\">\n",
              "      <div>\n",
              "<style scoped>\n",
              "    .dataframe tbody tr th:only-of-type {\n",
              "        vertical-align: middle;\n",
              "    }\n",
              "\n",
              "    .dataframe tbody tr th {\n",
              "        vertical-align: top;\n",
              "    }\n",
              "\n",
              "    .dataframe thead th {\n",
              "        text-align: right;\n",
              "    }\n",
              "</style>\n",
              "<table border=\"1\" class=\"dataframe\">\n",
              "  <thead>\n",
              "    <tr style=\"text-align: right;\">\n",
              "      <th></th>\n",
              "      <th>idade_pessoa</th>\n",
              "      <th>salario_pessoa</th>\n",
              "      <th>situacao_propriedade_pessoa</th>\n",
              "      <th>tempo_trabalhado_pessoa</th>\n",
              "      <th>motivo_emprestimo</th>\n",
              "      <th>pontuacao_emprestimo</th>\n",
              "      <th>valor_emprestimo</th>\n",
              "      <th>taxa_juros_emprestimo</th>\n",
              "      <th>status_emprestimo</th>\n",
              "      <th>porcentagem_salario_emprestimo</th>\n",
              "      <th>foi_inadimplente_cb</th>\n",
              "      <th>tempo_primeira_solicitacao_credito_cb</th>\n",
              "    </tr>\n",
              "  </thead>\n",
              "  <tbody>\n",
              "    <tr>\n",
              "      <th>0</th>\n",
              "      <td>34.0</td>\n",
              "      <td>50000.0</td>\n",
              "      <td>Própria</td>\n",
              "      <td>2.0</td>\n",
              "      <td>Personal</td>\n",
              "      <td>B</td>\n",
              "      <td>12000.0</td>\n",
              "      <td>NaN</td>\n",
              "      <td>0.0</td>\n",
              "      <td>0.24</td>\n",
              "      <td>N</td>\n",
              "      <td>9</td>\n",
              "    </tr>\n",
              "    <tr>\n",
              "      <th>1</th>\n",
              "      <td>23.0</td>\n",
              "      <td>54000.0</td>\n",
              "      <td>Aluguel</td>\n",
              "      <td>3.0</td>\n",
              "      <td>Pagamento de débitos</td>\n",
              "      <td>A</td>\n",
              "      <td>6250.0</td>\n",
              "      <td>6.99</td>\n",
              "      <td>0.0</td>\n",
              "      <td>0.12</td>\n",
              "      <td>N</td>\n",
              "      <td>3</td>\n",
              "    </tr>\n",
              "    <tr>\n",
              "      <th>2</th>\n",
              "      <td>27.0</td>\n",
              "      <td>42000.0</td>\n",
              "      <td>Aluguel</td>\n",
              "      <td>2.0</td>\n",
              "      <td>Médico</td>\n",
              "      <td>A</td>\n",
              "      <td>6550.0</td>\n",
              "      <td>7.88</td>\n",
              "      <td>0.0</td>\n",
              "      <td>0.16</td>\n",
              "      <td>N</td>\n",
              "      <td>8</td>\n",
              "    </tr>\n",
              "    <tr>\n",
              "      <th>3</th>\n",
              "      <td>29.0</td>\n",
              "      <td>84000.0</td>\n",
              "      <td>Própria</td>\n",
              "      <td>11.0</td>\n",
              "      <td>Educativo</td>\n",
              "      <td>B</td>\n",
              "      <td>15000.0</td>\n",
              "      <td>12.18</td>\n",
              "      <td>0.0</td>\n",
              "      <td>0.18</td>\n",
              "      <td>N</td>\n",
              "      <td>10</td>\n",
              "    </tr>\n",
              "    <tr>\n",
              "      <th>4</th>\n",
              "      <td>29.0</td>\n",
              "      <td>35000.0</td>\n",
              "      <td>Aluguel</td>\n",
              "      <td>2.0</td>\n",
              "      <td>Educativo</td>\n",
              "      <td>A</td>\n",
              "      <td>3600.0</td>\n",
              "      <td>8.94</td>\n",
              "      <td>0.0</td>\n",
              "      <td>0.10</td>\n",
              "      <td>N</td>\n",
              "      <td>10</td>\n",
              "    </tr>\n",
              "  </tbody>\n",
              "</table>\n",
              "</div>\n",
              "      <button class=\"colab-df-convert\" onclick=\"convertToInteractive('df-2892e210-21b6-4cde-a1a2-dc28470515c7')\"\n",
              "              title=\"Convert this dataframe to an interactive table.\"\n",
              "              style=\"display:none;\">\n",
              "        \n",
              "  <svg xmlns=\"http://www.w3.org/2000/svg\" height=\"24px\"viewBox=\"0 0 24 24\"\n",
              "       width=\"24px\">\n",
              "    <path d=\"M0 0h24v24H0V0z\" fill=\"none\"/>\n",
              "    <path d=\"M18.56 5.44l.94 2.06.94-2.06 2.06-.94-2.06-.94-.94-2.06-.94 2.06-2.06.94zm-11 1L8.5 8.5l.94-2.06 2.06-.94-2.06-.94L8.5 2.5l-.94 2.06-2.06.94zm10 10l.94 2.06.94-2.06 2.06-.94-2.06-.94-.94-2.06-.94 2.06-2.06.94z\"/><path d=\"M17.41 7.96l-1.37-1.37c-.4-.4-.92-.59-1.43-.59-.52 0-1.04.2-1.43.59L10.3 9.45l-7.72 7.72c-.78.78-.78 2.05 0 2.83L4 21.41c.39.39.9.59 1.41.59.51 0 1.02-.2 1.41-.59l7.78-7.78 2.81-2.81c.8-.78.8-2.07 0-2.86zM5.41 20L4 18.59l7.72-7.72 1.47 1.35L5.41 20z\"/>\n",
              "  </svg>\n",
              "      </button>\n",
              "      \n",
              "  <style>\n",
              "    .colab-df-container {\n",
              "      display:flex;\n",
              "      flex-wrap:wrap;\n",
              "      gap: 12px;\n",
              "    }\n",
              "\n",
              "    .colab-df-convert {\n",
              "      background-color: #E8F0FE;\n",
              "      border: none;\n",
              "      border-radius: 50%;\n",
              "      cursor: pointer;\n",
              "      display: none;\n",
              "      fill: #1967D2;\n",
              "      height: 32px;\n",
              "      padding: 0 0 0 0;\n",
              "      width: 32px;\n",
              "    }\n",
              "\n",
              "    .colab-df-convert:hover {\n",
              "      background-color: #E2EBFA;\n",
              "      box-shadow: 0px 1px 2px rgba(60, 64, 67, 0.3), 0px 1px 3px 1px rgba(60, 64, 67, 0.15);\n",
              "      fill: #174EA6;\n",
              "    }\n",
              "\n",
              "    [theme=dark] .colab-df-convert {\n",
              "      background-color: #3B4455;\n",
              "      fill: #D2E3FC;\n",
              "    }\n",
              "\n",
              "    [theme=dark] .colab-df-convert:hover {\n",
              "      background-color: #434B5C;\n",
              "      box-shadow: 0px 1px 3px 1px rgba(0, 0, 0, 0.15);\n",
              "      filter: drop-shadow(0px 1px 2px rgba(0, 0, 0, 0.3));\n",
              "      fill: #FFFFFF;\n",
              "    }\n",
              "  </style>\n",
              "\n",
              "      <script>\n",
              "        const buttonEl =\n",
              "          document.querySelector('#df-2892e210-21b6-4cde-a1a2-dc28470515c7 button.colab-df-convert');\n",
              "        buttonEl.style.display =\n",
              "          google.colab.kernel.accessAllowed ? 'block' : 'none';\n",
              "\n",
              "        async function convertToInteractive(key) {\n",
              "          const element = document.querySelector('#df-2892e210-21b6-4cde-a1a2-dc28470515c7');\n",
              "          const dataTable =\n",
              "            await google.colab.kernel.invokeFunction('convertToInteractive',\n",
              "                                                     [key], {});\n",
              "          if (!dataTable) return;\n",
              "\n",
              "          const docLinkHtml = 'Like what you see? Visit the ' +\n",
              "            '<a target=\"_blank\" href=https://colab.research.google.com/notebooks/data_table.ipynb>data table notebook</a>'\n",
              "            + ' to learn more about interactive tables.';\n",
              "          element.innerHTML = '';\n",
              "          dataTable['output_type'] = 'display_data';\n",
              "          await google.colab.output.renderOutput(dataTable, element);\n",
              "          const docLink = document.createElement('div');\n",
              "          docLink.innerHTML = docLinkHtml;\n",
              "          element.appendChild(docLink);\n",
              "        }\n",
              "      </script>\n",
              "    </div>\n",
              "  </div>\n",
              "  "
            ]
          },
          "metadata": {},
          "execution_count": 87
        }
      ]
    },
    {
      "cell_type": "markdown",
      "source": [],
      "metadata": {
        "id": "qchMJqj94XLX"
      }
    },
    {
      "cell_type": "markdown",
      "source": [
        "## Tratando dados nulos"
      ],
      "metadata": {
        "id": "I3VWY6BiUuwQ"
      }
    },
    {
      "cell_type": "markdown",
      "source": [
        "##Dados cliente"
      ],
      "metadata": {
        "id": "JNlyGDeD954e"
      }
    },
    {
      "cell_type": "code",
      "source": [
        "dados.isnull().sum()"
      ],
      "metadata": {
        "colab": {
          "base_uri": "https://localhost:8080/"
        },
        "id": "EI7Nmmu18X9i",
        "outputId": "4d470d85-0d51-415a-8f33-a40ada09ce37"
      },
      "execution_count": 88,
      "outputs": [
        {
          "output_type": "execute_result",
          "data": {
            "text/plain": [
              "idade_pessoa                              320\n",
              "salario_pessoa                            335\n",
              "situacao_propriedade_pessoa               331\n",
              "tempo_trabalhado_pessoa                  1254\n",
              "motivo_emprestimo                         311\n",
              "pontuacao_emprestimo                      309\n",
              "valor_emprestimo                          331\n",
              "taxa_juros_emprestimo                    3626\n",
              "status_emprestimo                         343\n",
              "porcentagem_salario_emprestimo            315\n",
              "foi_inadimplente_cb                       366\n",
              "tempo_primeira_solicitacao_credito_cb       0\n",
              "dtype: int64"
            ]
          },
          "metadata": {},
          "execution_count": 88
        }
      ]
    },
    {
      "cell_type": "markdown",
      "source": [
        "O desafio pede para remover os dados nulos, posteriormente tentarei fazer utilizar os algoritmos tratando os dados nulos de outra forma, já que removendo os nulos, perdemos bastante informações."
      ],
      "metadata": {
        "id": "lIQ68f7Z0lrj"
      }
    },
    {
      "cell_type": "code",
      "source": [
        "dados.dropna(inplace=True)"
      ],
      "metadata": {
        "id": "SMlLT0ld05zb"
      },
      "execution_count": 89,
      "outputs": []
    },
    {
      "cell_type": "code",
      "source": [
        "dados.shape"
      ],
      "metadata": {
        "colab": {
          "base_uri": "https://localhost:8080/"
        },
        "id": "G7ugFfzUAmcB",
        "outputId": "a203189d-87b4-4c32-f126-e8a670f0961d"
      },
      "execution_count": 90,
      "outputs": [
        {
          "output_type": "execute_result",
          "data": {
            "text/plain": [
              "(28638, 12)"
            ]
          },
          "metadata": {},
          "execution_count": 90
        }
      ]
    },
    {
      "cell_type": "code",
      "source": [
        "dados.info()"
      ],
      "metadata": {
        "id": "5C0ALjorCF8C",
        "colab": {
          "base_uri": "https://localhost:8080/"
        },
        "outputId": "40e2f2c9-3bd0-4c29-a61d-51e4db644abb"
      },
      "execution_count": 91,
      "outputs": [
        {
          "output_type": "stream",
          "name": "stdout",
          "text": [
            "<class 'pandas.core.frame.DataFrame'>\n",
            "Int64Index: 28638 entries, 1 to 34484\n",
            "Data columns (total 12 columns):\n",
            " #   Column                                 Non-Null Count  Dtype  \n",
            "---  ------                                 --------------  -----  \n",
            " 0   idade_pessoa                           28638 non-null  float64\n",
            " 1   salario_pessoa                         28638 non-null  float64\n",
            " 2   situacao_propriedade_pessoa            28638 non-null  object \n",
            " 3   tempo_trabalhado_pessoa                28638 non-null  float64\n",
            " 4   motivo_emprestimo                      28638 non-null  object \n",
            " 5   pontuacao_emprestimo                   28638 non-null  object \n",
            " 6   valor_emprestimo                       28638 non-null  float64\n",
            " 7   taxa_juros_emprestimo                  28638 non-null  float64\n",
            " 8   status_emprestimo                      28638 non-null  float64\n",
            " 9   porcentagem_salario_emprestimo         28638 non-null  float64\n",
            " 10  foi_inadimplente_cb                    28638 non-null  object \n",
            " 11  tempo_primeira_solicitacao_credito_cb  28638 non-null  int64  \n",
            "dtypes: float64(7), int64(1), object(4)\n",
            "memory usage: 2.8+ MB\n"
          ]
        }
      ]
    },
    {
      "cell_type": "markdown",
      "source": [
        "###Idade"
      ],
      "metadata": {
        "id": "yUO7Rb1dYV8K"
      }
    },
    {
      "cell_type": "code",
      "source": [
        "sns.histplot(data= dados, x=\"idade_pessoa\")\n",
        "plt.title(\"Idade dos clientes\")\n",
        "plt.xlabel(\"Idade\")\n",
        "plt.ylabel(\"Quantidade de pessoas\")\n",
        "plt.show()"
      ],
      "metadata": {
        "colab": {
          "base_uri": "https://localhost:8080/",
          "height": 295
        },
        "id": "qONbUTlHThIn",
        "outputId": "cdecb4e5-125a-4cd8-8720-81f74a51a8b8"
      },
      "execution_count": 92,
      "outputs": [
        {
          "output_type": "display_data",
          "data": {
            "text/plain": [
              "<Figure size 432x288 with 1 Axes>"
            ],
            "image/png": "[encoded data removed]"
          },
          "metadata": {
            "needs_background": "light"
          }
        }
      ]
    },
    {
      "cell_type": "markdown",
      "source": [
        "É possível visualizar que existem idades até 140 anos, o que provavelmente é um erro na base de dados, então irei remover essas linhas."
      ],
      "metadata": {
        "id": "ROPjs0z0VnUv"
      }
    },
    {
      "cell_type": "code",
      "source": [
        "dados.loc[dados[\"idade_pessoa\"] > 100]"
      ],
      "metadata": {
        "colab": {
          "base_uri": "https://localhost:8080/",
          "height": 239
        },
        "id": "mclL3Iz0VwjW",
        "outputId": "d4b5dc64-1572-471a-df0e-a0899c4200ea"
      },
      "execution_count": 93,
      "outputs": [
        {
          "output_type": "execute_result",
          "data": {
            "text/plain": [
              "       idade_pessoa  salario_pessoa situacao_propriedade_pessoa  \\\n",
              "13766         144.0       6000000.0                    Hipoteca   \n",
              "17036         123.0         80004.0                     Aluguel   \n",
              "22061         144.0        200000.0                    Hipoteca   \n",
              "29262         144.0        250000.0                     Aluguel   \n",
              "\n",
              "       tempo_trabalhado_pessoa motivo_emprestimo pontuacao_emprestimo  \\\n",
              "13766                     12.0          Personal                    C   \n",
              "17036                      2.0         Educativo                    B   \n",
              "22061                      4.0         Educativo                    B   \n",
              "29262                      4.0    Empreendimento                    C   \n",
              "\n",
              "       valor_emprestimo  taxa_juros_emprestimo  status_emprestimo  \\\n",
              "13766            5000.0                  12.73                0.0   \n",
              "17036           20400.0                  10.25                0.0   \n",
              "22061            6000.0                  11.86                0.0   \n",
              "29262            4800.0                  13.57                0.0   \n",
              "\n",
              "       porcentagem_salario_emprestimo foi_inadimplente_cb  \\\n",
              "13766                            0.00                   N   \n",
              "17036                            0.25                   N   \n",
              "22061                            0.03                   N   \n",
              "29262                            0.02                   N   \n",
              "\n",
              "       tempo_primeira_solicitacao_credito_cb  \n",
              "13766                                     25  \n",
              "17036                                      3  \n",
              "22061                                      2  \n",
              "29262                                      3  "
            ],
            "text/html": [
              "\n",
              "  <div id=\"df-29099d7e-9773-40e8-a23f-03ac1c64199d\">\n",
              "    <div class=\"colab-df-container\">\n",
              "      <div>\n",
              "<style scoped>\n",
              "    .dataframe tbody tr th:only-of-type {\n",
              "        vertical-align: middle;\n",
              "    }\n",
              "\n",
              "    .dataframe tbody tr th {\n",
              "        vertical-align: top;\n",
              "    }\n",
              "\n",
              "    .dataframe thead th {\n",
              "        text-align: right;\n",
              "    }\n",
              "</style>\n",
              "<table border=\"1\" class=\"dataframe\">\n",
              "  <thead>\n",
              "    <tr style=\"text-align: right;\">\n",
              "      <th></th>\n",
              "      <th>idade_pessoa</th>\n",
              "      <th>salario_pessoa</th>\n",
              "      <th>situacao_propriedade_pessoa</th>\n",
              "      <th>tempo_trabalhado_pessoa</th>\n",
              "      <th>motivo_emprestimo</th>\n",
              "      <th>pontuacao_emprestimo</th>\n",
              "      <th>valor_emprestimo</th>\n",
              "      <th>taxa_juros_emprestimo</th>\n",
              "      <th>status_emprestimo</th>\n",
              "      <th>porcentagem_salario_emprestimo</th>\n",
              "      <th>foi_inadimplente_cb</th>\n",
              "      <th>tempo_primeira_solicitacao_credito_cb</th>\n",
              "    </tr>\n",
              "  </thead>\n",
              "  <tbody>\n",
              "    <tr>\n",
              "      <th>13766</th>\n",
              "      <td>144.0</td>\n",
              "      <td>6000000.0</td>\n",
              "      <td>Hipoteca</td>\n",
              "      <td>12.0</td>\n",
              "      <td>Personal</td>\n",
              "      <td>C</td>\n",
              "      <td>5000.0</td>\n",
              "      <td>12.73</td>\n",
              "      <td>0.0</td>\n",
              "      <td>0.00</td>\n",
              "      <td>N</td>\n",
              "      <td>25</td>\n",
              "    </tr>\n",
              "    <tr>\n",
              "      <th>17036</th>\n",
              "      <td>123.0</td>\n",
              "      <td>80004.0</td>\n",
              "      <td>Aluguel</td>\n",
              "      <td>2.0</td>\n",
              "      <td>Educativo</td>\n",
              "      <td>B</td>\n",
              "      <td>20400.0</td>\n",
              "      <td>10.25</td>\n",
              "      <td>0.0</td>\n",
              "      <td>0.25</td>\n",
              "      <td>N</td>\n",
              "      <td>3</td>\n",
              "    </tr>\n",
              "    <tr>\n",
              "      <th>22061</th>\n",
              "      <td>144.0</td>\n",
              "      <td>200000.0</td>\n",
              "      <td>Hipoteca</td>\n",
              "      <td>4.0</td>\n",
              "      <td>Educativo</td>\n",
              "      <td>B</td>\n",
              "      <td>6000.0</td>\n",
              "      <td>11.86</td>\n",
              "      <td>0.0</td>\n",
              "      <td>0.03</td>\n",
              "      <td>N</td>\n",
              "      <td>2</td>\n",
              "    </tr>\n",
              "    <tr>\n",
              "      <th>29262</th>\n",
              "      <td>144.0</td>\n",
              "      <td>250000.0</td>\n",
              "      <td>Aluguel</td>\n",
              "      <td>4.0</td>\n",
              "      <td>Empreendimento</td>\n",
              "      <td>C</td>\n",
              "      <td>4800.0</td>\n",
              "      <td>13.57</td>\n",
              "      <td>0.0</td>\n",
              "      <td>0.02</td>\n",
              "      <td>N</td>\n",
              "      <td>3</td>\n",
              "    </tr>\n",
              "  </tbody>\n",
              "</table>\n",
              "</div>\n",
              "      <button class=\"colab-df-convert\" onclick=\"convertToInteractive('df-29099d7e-9773-40e8-a23f-03ac1c64199d')\"\n",
              "              title=\"Convert this dataframe to an interactive table.\"\n",
              "              style=\"display:none;\">\n",
              "        \n",
              "  <svg xmlns=\"http://www.w3.org/2000/svg\" height=\"24px\"viewBox=\"0 0 24 24\"\n",
              "       width=\"24px\">\n",
              "    <path d=\"M0 0h24v24H0V0z\" fill=\"none\"/>\n",
              "    <path d=\"M18.56 5.44l.94 2.06.94-2.06 2.06-.94-2.06-.94-.94-2.06-.94 2.06-2.06.94zm-11 1L8.5 8.5l.94-2.06 2.06-.94-2.06-.94L8.5 2.5l-.94 2.06-2.06.94zm10 10l.94 2.06.94-2.06 2.06-.94-2.06-.94-.94-2.06-.94 2.06-2.06.94z\"/><path d=\"M17.41 7.96l-1.37-1.37c-.4-.4-.92-.59-1.43-.59-.52 0-1.04.2-1.43.59L10.3 9.45l-7.72 7.72c-.78.78-.78 2.05 0 2.83L4 21.41c.39.39.9.59 1.41.59.51 0 1.02-.2 1.41-.59l7.78-7.78 2.81-2.81c.8-.78.8-2.07 0-2.86zM5.41 20L4 18.59l7.72-7.72 1.47 1.35L5.41 20z\"/>\n",
              "  </svg>\n",
              "      </button>\n",
              "      \n",
              "  <style>\n",
              "    .colab-df-container {\n",
              "      display:flex;\n",
              "      flex-wrap:wrap;\n",
              "      gap: 12px;\n",
              "    }\n",
              "\n",
              "    .colab-df-convert {\n",
              "      background-color: #E8F0FE;\n",
              "      border: none;\n",
              "      border-radius: 50%;\n",
              "      cursor: pointer;\n",
              "      display: none;\n",
              "      fill: #1967D2;\n",
              "      height: 32px;\n",
              "      padding: 0 0 0 0;\n",
              "      width: 32px;\n",
              "    }\n",
              "\n",
              "    .colab-df-convert:hover {\n",
              "      background-color: #E2EBFA;\n",
              "      box-shadow: 0px 1px 2px rgba(60, 64, 67, 0.3), 0px 1px 3px 1px rgba(60, 64, 67, 0.15);\n",
              "      fill: #174EA6;\n",
              "    }\n",
              "\n",
              "    [theme=dark] .colab-df-convert {\n",
              "      background-color: #3B4455;\n",
              "      fill: #D2E3FC;\n",
              "    }\n",
              "\n",
              "    [theme=dark] .colab-df-convert:hover {\n",
              "      background-color: #434B5C;\n",
              "      box-shadow: 0px 1px 3px 1px rgba(0, 0, 0, 0.15);\n",
              "      filter: drop-shadow(0px 1px 2px rgba(0, 0, 0, 0.3));\n",
              "      fill: #FFFFFF;\n",
              "    }\n",
              "  </style>\n",
              "\n",
              "      <script>\n",
              "        const buttonEl =\n",
              "          document.querySelector('#df-29099d7e-9773-40e8-a23f-03ac1c64199d button.colab-df-convert');\n",
              "        buttonEl.style.display =\n",
              "          google.colab.kernel.accessAllowed ? 'block' : 'none';\n",
              "\n",
              "        async function convertToInteractive(key) {\n",
              "          const element = document.querySelector('#df-29099d7e-9773-40e8-a23f-03ac1c64199d');\n",
              "          const dataTable =\n",
              "            await google.colab.kernel.invokeFunction('convertToInteractive',\n",
              "                                                     [key], {});\n",
              "          if (!dataTable) return;\n",
              "\n",
              "          const docLinkHtml = 'Like what you see? Visit the ' +\n",
              "            '<a target=\"_blank\" href=https://colab.research.google.com/notebooks/data_table.ipynb>data table notebook</a>'\n",
              "            + ' to learn more about interactive tables.';\n",
              "          element.innerHTML = '';\n",
              "          dataTable['output_type'] = 'display_data';\n",
              "          await google.colab.output.renderOutput(dataTable, element);\n",
              "          const docLink = document.createElement('div');\n",
              "          docLink.innerHTML = docLinkHtml;\n",
              "          element.appendChild(docLink);\n",
              "        }\n",
              "      </script>\n",
              "    </div>\n",
              "  </div>\n",
              "  "
            ]
          },
          "metadata": {},
          "execution_count": 93
        }
      ]
    },
    {
      "cell_type": "code",
      "source": [
        "dados2 = dados.drop(dados.loc[dados[\"idade_pessoa\"] > 100].index)\n",
        "dados2.reset_index(inplace=True)\n",
        "dados2.drop(columns=\"index\", inplace=True)\n",
        "dados2.tail()"
      ],
      "metadata": {
        "colab": {
          "base_uri": "https://localhost:8080/",
          "height": 287
        },
        "id": "bZS98Q1fV_6X",
        "outputId": "84a2f8a5-0aa5-4c2f-82a7-fd42d34ff628"
      },
      "execution_count": 94,
      "outputs": [
        {
          "output_type": "execute_result",
          "data": {
            "text/plain": [
              "       idade_pessoa  salario_pessoa situacao_propriedade_pessoa  \\\n",
              "28629          29.0         91200.0                    Hipoteca   \n",
              "28630          23.0         65000.0                    Hipoteca   \n",
              "28631          26.0         54996.0                     Aluguel   \n",
              "28632          24.0         28590.0                     Aluguel   \n",
              "28633          27.0         63500.0                     Aluguel   \n",
              "\n",
              "       tempo_trabalhado_pessoa     motivo_emprestimo pontuacao_emprestimo  \\\n",
              "28629                     13.0              Personal                    B   \n",
              "28630                      3.0                Médico                    A   \n",
              "28631                      8.0             Educativo                    B   \n",
              "28632                      7.0  Pagamento de débitos                    D   \n",
              "28633                      3.0              Personal                    B   \n",
              "\n",
              "       valor_emprestimo  taxa_juros_emprestimo  status_emprestimo  \\\n",
              "28629            2000.0                  11.49                0.0   \n",
              "28630            7000.0                   7.90                0.0   \n",
              "28631           20000.0                  12.18                1.0   \n",
              "28632            8000.0                  15.65                1.0   \n",
              "28633            4000.0                  10.37                0.0   \n",
              "\n",
              "       porcentagem_salario_emprestimo foi_inadimplente_cb  \\\n",
              "28629                            0.02                   N   \n",
              "28630                            0.11                   N   \n",
              "28631                            0.36                   N   \n",
              "28632                            0.28                   S   \n",
              "28633                            0.06                   N   \n",
              "\n",
              "       tempo_primeira_solicitacao_credito_cb  \n",
              "28629                                      8  \n",
              "28630                                      4  \n",
              "28631                                      4  \n",
              "28632                                      2  \n",
              "28633                                      9  "
            ],
            "text/html": [
              "\n",
              "  <div id=\"df-592b5bc0-0915-43c5-8bee-6857f8223a04\">\n",
              "    <div class=\"colab-df-container\">\n",
              "      <div>\n",
              "<style scoped>\n",
              "    .dataframe tbody tr th:only-of-type {\n",
              "        vertical-align: middle;\n",
              "    }\n",
              "\n",
              "    .dataframe tbody tr th {\n",
              "        vertical-align: top;\n",
              "    }\n",
              "\n",
              "    .dataframe thead th {\n",
              "        text-align: right;\n",
              "    }\n",
              "</style>\n",
              "<table border=\"1\" class=\"dataframe\">\n",
              "  <thead>\n",
              "    <tr style=\"text-align: right;\">\n",
              "      <th></th>\n",
              "      <th>idade_pessoa</th>\n",
              "      <th>salario_pessoa</th>\n",
              "      <th>situacao_propriedade_pessoa</th>\n",
              "      <th>tempo_trabalhado_pessoa</th>\n",
              "      <th>motivo_emprestimo</th>\n",
              "      <th>pontuacao_emprestimo</th>\n",
              "      <th>valor_emprestimo</th>\n",
              "      <th>taxa_juros_emprestimo</th>\n",
              "      <th>status_emprestimo</th>\n",
              "      <th>porcentagem_salario_emprestimo</th>\n",
              "      <th>foi_inadimplente_cb</th>\n",
              "      <th>tempo_primeira_solicitacao_credito_cb</th>\n",
              "    </tr>\n",
              "  </thead>\n",
              "  <tbody>\n",
              "    <tr>\n",
              "      <th>28629</th>\n",
              "      <td>29.0</td>\n",
              "      <td>91200.0</td>\n",
              "      <td>Hipoteca</td>\n",
              "      <td>13.0</td>\n",
              "      <td>Personal</td>\n",
              "      <td>B</td>\n",
              "      <td>2000.0</td>\n",
              "      <td>11.49</td>\n",
              "      <td>0.0</td>\n",
              "      <td>0.02</td>\n",
              "      <td>N</td>\n",
              "      <td>8</td>\n",
              "    </tr>\n",
              "    <tr>\n",
              "      <th>28630</th>\n",
              "      <td>23.0</td>\n",
              "      <td>65000.0</td>\n",
              "      <td>Hipoteca</td>\n",
              "      <td>3.0</td>\n",
              "      <td>Médico</td>\n",
              "      <td>A</td>\n",
              "      <td>7000.0</td>\n",
              "      <td>7.90</td>\n",
              "      <td>0.0</td>\n",
              "      <td>0.11</td>\n",
              "      <td>N</td>\n",
              "      <td>4</td>\n",
              "    </tr>\n",
              "    <tr>\n",
              "      <th>28631</th>\n",
              "      <td>26.0</td>\n",
              "      <td>54996.0</td>\n",
              "      <td>Aluguel</td>\n",
              "      <td>8.0</td>\n",
              "      <td>Educativo</td>\n",
              "      <td>B</td>\n",
              "      <td>20000.0</td>\n",
              "      <td>12.18</td>\n",
              "      <td>1.0</td>\n",
              "      <td>0.36</td>\n",
              "      <td>N</td>\n",
              "      <td>4</td>\n",
              "    </tr>\n",
              "    <tr>\n",
              "      <th>28632</th>\n",
              "      <td>24.0</td>\n",
              "      <td>28590.0</td>\n",
              "      <td>Aluguel</td>\n",
              "      <td>7.0</td>\n",
              "      <td>Pagamento de débitos</td>\n",
              "      <td>D</td>\n",
              "      <td>8000.0</td>\n",
              "      <td>15.65</td>\n",
              "      <td>1.0</td>\n",
              "      <td>0.28</td>\n",
              "      <td>S</td>\n",
              "      <td>2</td>\n",
              "    </tr>\n",
              "    <tr>\n",
              "      <th>28633</th>\n",
              "      <td>27.0</td>\n",
              "      <td>63500.0</td>\n",
              "      <td>Aluguel</td>\n",
              "      <td>3.0</td>\n",
              "      <td>Personal</td>\n",
              "      <td>B</td>\n",
              "      <td>4000.0</td>\n",
              "      <td>10.37</td>\n",
              "      <td>0.0</td>\n",
              "      <td>0.06</td>\n",
              "      <td>N</td>\n",
              "      <td>9</td>\n",
              "    </tr>\n",
              "  </tbody>\n",
              "</table>\n",
              "</div>\n",
              "      <button class=\"colab-df-convert\" onclick=\"convertToInteractive('df-592b5bc0-0915-43c5-8bee-6857f8223a04')\"\n",
              "              title=\"Convert this dataframe to an interactive table.\"\n",
              "              style=\"display:none;\">\n",
              "        \n",
              "  <svg xmlns=\"http://www.w3.org/2000/svg\" height=\"24px\"viewBox=\"0 0 24 24\"\n",
              "       width=\"24px\">\n",
              "    <path d=\"M0 0h24v24H0V0z\" fill=\"none\"/>\n",
              "    <path d=\"M18.56 5.44l.94 2.06.94-2.06 2.06-.94-2.06-.94-.94-2.06-.94 2.06-2.06.94zm-11 1L8.5 8.5l.94-2.06 2.06-.94-2.06-.94L8.5 2.5l-.94 2.06-2.06.94zm10 10l.94 2.06.94-2.06 2.06-.94-2.06-.94-.94-2.06-.94 2.06-2.06.94z\"/><path d=\"M17.41 7.96l-1.37-1.37c-.4-.4-.92-.59-1.43-.59-.52 0-1.04.2-1.43.59L10.3 9.45l-7.72 7.72c-.78.78-.78 2.05 0 2.83L4 21.41c.39.39.9.59 1.41.59.51 0 1.02-.2 1.41-.59l7.78-7.78 2.81-2.81c.8-.78.8-2.07 0-2.86zM5.41 20L4 18.59l7.72-7.72 1.47 1.35L5.41 20z\"/>\n",
              "  </svg>\n",
              "      </button>\n",
              "      \n",
              "  <style>\n",
              "    .colab-df-container {\n",
              "      display:flex;\n",
              "      flex-wrap:wrap;\n",
              "      gap: 12px;\n",
              "    }\n",
              "\n",
              "    .colab-df-convert {\n",
              "      background-color: #E8F0FE;\n",
              "      border: none;\n",
              "      border-radius: 50%;\n",
              "      cursor: pointer;\n",
              "      display: none;\n",
              "      fill: #1967D2;\n",
              "      height: 32px;\n",
              "      padding: 0 0 0 0;\n",
              "      width: 32px;\n",
              "    }\n",
              "\n",
              "    .colab-df-convert:hover {\n",
              "      background-color: #E2EBFA;\n",
              "      box-shadow: 0px 1px 2px rgba(60, 64, 67, 0.3), 0px 1px 3px 1px rgba(60, 64, 67, 0.15);\n",
              "      fill: #174EA6;\n",
              "    }\n",
              "\n",
              "    [theme=dark] .colab-df-convert {\n",
              "      background-color: #3B4455;\n",
              "      fill: #D2E3FC;\n",
              "    }\n",
              "\n",
              "    [theme=dark] .colab-df-convert:hover {\n",
              "      background-color: #434B5C;\n",
              "      box-shadow: 0px 1px 3px 1px rgba(0, 0, 0, 0.15);\n",
              "      filter: drop-shadow(0px 1px 2px rgba(0, 0, 0, 0.3));\n",
              "      fill: #FFFFFF;\n",
              "    }\n",
              "  </style>\n",
              "\n",
              "      <script>\n",
              "        const buttonEl =\n",
              "          document.querySelector('#df-592b5bc0-0915-43c5-8bee-6857f8223a04 button.colab-df-convert');\n",
              "        buttonEl.style.display =\n",
              "          google.colab.kernel.accessAllowed ? 'block' : 'none';\n",
              "\n",
              "        async function convertToInteractive(key) {\n",
              "          const element = document.querySelector('#df-592b5bc0-0915-43c5-8bee-6857f8223a04');\n",
              "          const dataTable =\n",
              "            await google.colab.kernel.invokeFunction('convertToInteractive',\n",
              "                                                     [key], {});\n",
              "          if (!dataTable) return;\n",
              "\n",
              "          const docLinkHtml = 'Like what you see? Visit the ' +\n",
              "            '<a target=\"_blank\" href=https://colab.research.google.com/notebooks/data_table.ipynb>data table notebook</a>'\n",
              "            + ' to learn more about interactive tables.';\n",
              "          element.innerHTML = '';\n",
              "          dataTable['output_type'] = 'display_data';\n",
              "          await google.colab.output.renderOutput(dataTable, element);\n",
              "          const docLink = document.createElement('div');\n",
              "          docLink.innerHTML = docLinkHtml;\n",
              "          element.appendChild(docLink);\n",
              "        }\n",
              "      </script>\n",
              "    </div>\n",
              "  </div>\n",
              "  "
            ]
          },
          "metadata": {},
          "execution_count": 94
        }
      ]
    },
    {
      "cell_type": "code",
      "source": [
        "def plotar_histograma(dados, coluna, *args, **kwargs):\n",
        "  plt.figure(figsize=(10,7))\n",
        "  sns.histplot(data= dados, x=coluna)\n",
        "  plt.show()"
      ],
      "metadata": {
        "id": "zSCecFW-Wxk3"
      },
      "execution_count": 95,
      "outputs": []
    },
    {
      "cell_type": "code",
      "source": [
        "plotar_histograma(dados2, \"idade_pessoa\")"
      ],
      "metadata": {
        "colab": {
          "base_uri": "https://localhost:8080/",
          "height": 443
        },
        "id": "vJh2V_jnXqCt",
        "outputId": "602abe46-18bf-4ffd-d7eb-ef60dc6451b3"
      },
      "execution_count": 96,
      "outputs": [
        {
          "output_type": "display_data",
          "data": {
            "text/plain": [
              "<Figure size 720x504 with 1 Axes>"
            ],
            "image/png": "[encoded data removed]"
          },
          "metadata": {
            "needs_background": "light"
          }
        }
      ]
    },
    {
      "cell_type": "markdown",
      "source": [
        "Percebemos que a maioria dos clientes da Alura Cash estão entre 20 e 30 anos. Além disso, irei transformar a idade em categorias."
      ],
      "metadata": {
        "id": "rHNRc9zYYKJF"
      }
    },
    {
      "cell_type": "code",
      "source": [
        "dados2[\"idade_pessoa\"] = pd.cut(x = dados2[\"idade_pessoa\"], bins=[18, 25, 30, 40, 50, 60, 70, 80, 90], labels = [1, 2, 3, 4, 5, 6, 7, 8])\n",
        "dados.head()"
      ],
      "metadata": {
        "colab": {
          "base_uri": "https://localhost:8080/",
          "height": 305
        },
        "id": "R4nAtHN3_ej9",
        "outputId": "df03a445-5e89-43f0-d4ab-bbf81eaed174"
      },
      "execution_count": 97,
      "outputs": [
        {
          "output_type": "execute_result",
          "data": {
            "text/plain": [
              "   idade_pessoa  salario_pessoa situacao_propriedade_pessoa  \\\n",
              "1          23.0         54000.0                     Aluguel   \n",
              "2          27.0         42000.0                     Aluguel   \n",
              "3          29.0         84000.0                     Própria   \n",
              "4          29.0         35000.0                     Aluguel   \n",
              "5          22.0         55000.0                     Aluguel   \n",
              "\n",
              "   tempo_trabalhado_pessoa     motivo_emprestimo pontuacao_emprestimo  \\\n",
              "1                      3.0  Pagamento de débitos                    A   \n",
              "2                      2.0                Médico                    A   \n",
              "3                     11.0             Educativo                    B   \n",
              "4                      2.0             Educativo                    A   \n",
              "5                      0.0  Pagamento de débitos                    D   \n",
              "\n",
              "   valor_emprestimo  taxa_juros_emprestimo  status_emprestimo  \\\n",
              "1            6250.0                   6.99                0.0   \n",
              "2            6550.0                   7.88                0.0   \n",
              "3           15000.0                  12.18                0.0   \n",
              "4            3600.0                   8.94                0.0   \n",
              "5           15000.0                  14.83                1.0   \n",
              "\n",
              "   porcentagem_salario_emprestimo foi_inadimplente_cb  \\\n",
              "1                            0.12                   N   \n",
              "2                            0.16                   N   \n",
              "3                            0.18                   N   \n",
              "4                            0.10                   N   \n",
              "5                            0.27                   S   \n",
              "\n",
              "   tempo_primeira_solicitacao_credito_cb  \n",
              "1                                      3  \n",
              "2                                      8  \n",
              "3                                     10  \n",
              "4                                     10  \n",
              "5                                      4  "
            ],
            "text/html": [
              "\n",
              "  <div id=\"df-7284ec2a-a519-4cc2-a159-5defe34204dc\">\n",
              "    <div class=\"colab-df-container\">\n",
              "      <div>\n",
              "<style scoped>\n",
              "    .dataframe tbody tr th:only-of-type {\n",
              "        vertical-align: middle;\n",
              "    }\n",
              "\n",
              "    .dataframe tbody tr th {\n",
              "        vertical-align: top;\n",
              "    }\n",
              "\n",
              "    .dataframe thead th {\n",
              "        text-align: right;\n",
              "    }\n",
              "</style>\n",
              "<table border=\"1\" class=\"dataframe\">\n",
              "  <thead>\n",
              "    <tr style=\"text-align: right;\">\n",
              "      <th></th>\n",
              "      <th>idade_pessoa</th>\n",
              "      <th>salario_pessoa</th>\n",
              "      <th>situacao_propriedade_pessoa</th>\n",
              "      <th>tempo_trabalhado_pessoa</th>\n",
              "      <th>motivo_emprestimo</th>\n",
              "      <th>pontuacao_emprestimo</th>\n",
              "      <th>valor_emprestimo</th>\n",
              "      <th>taxa_juros_emprestimo</th>\n",
              "      <th>status_emprestimo</th>\n",
              "      <th>porcentagem_salario_emprestimo</th>\n",
              "      <th>foi_inadimplente_cb</th>\n",
              "      <th>tempo_primeira_solicitacao_credito_cb</th>\n",
              "    </tr>\n",
              "  </thead>\n",
              "  <tbody>\n",
              "    <tr>\n",
              "      <th>1</th>\n",
              "      <td>23.0</td>\n",
              "      <td>54000.0</td>\n",
              "      <td>Aluguel</td>\n",
              "      <td>3.0</td>\n",
              "      <td>Pagamento de débitos</td>\n",
              "      <td>A</td>\n",
              "      <td>6250.0</td>\n",
              "      <td>6.99</td>\n",
              "      <td>0.0</td>\n",
              "      <td>0.12</td>\n",
              "      <td>N</td>\n",
              "      <td>3</td>\n",
              "    </tr>\n",
              "    <tr>\n",
              "      <th>2</th>\n",
              "      <td>27.0</td>\n",
              "      <td>42000.0</td>\n",
              "      <td>Aluguel</td>\n",
              "      <td>2.0</td>\n",
              "      <td>Médico</td>\n",
              "      <td>A</td>\n",
              "      <td>6550.0</td>\n",
              "      <td>7.88</td>\n",
              "      <td>0.0</td>\n",
              "      <td>0.16</td>\n",
              "      <td>N</td>\n",
              "      <td>8</td>\n",
              "    </tr>\n",
              "    <tr>\n",
              "      <th>3</th>\n",
              "      <td>29.0</td>\n",
              "      <td>84000.0</td>\n",
              "      <td>Própria</td>\n",
              "      <td>11.0</td>\n",
              "      <td>Educativo</td>\n",
              "      <td>B</td>\n",
              "      <td>15000.0</td>\n",
              "      <td>12.18</td>\n",
              "      <td>0.0</td>\n",
              "      <td>0.18</td>\n",
              "      <td>N</td>\n",
              "      <td>10</td>\n",
              "    </tr>\n",
              "    <tr>\n",
              "      <th>4</th>\n",
              "      <td>29.0</td>\n",
              "      <td>35000.0</td>\n",
              "      <td>Aluguel</td>\n",
              "      <td>2.0</td>\n",
              "      <td>Educativo</td>\n",
              "      <td>A</td>\n",
              "      <td>3600.0</td>\n",
              "      <td>8.94</td>\n",
              "      <td>0.0</td>\n",
              "      <td>0.10</td>\n",
              "      <td>N</td>\n",
              "      <td>10</td>\n",
              "    </tr>\n",
              "    <tr>\n",
              "      <th>5</th>\n",
              "      <td>22.0</td>\n",
              "      <td>55000.0</td>\n",
              "      <td>Aluguel</td>\n",
              "      <td>0.0</td>\n",
              "      <td>Pagamento de débitos</td>\n",
              "      <td>D</td>\n",
              "      <td>15000.0</td>\n",
              "      <td>14.83</td>\n",
              "      <td>1.0</td>\n",
              "      <td>0.27</td>\n",
              "      <td>S</td>\n",
              "      <td>4</td>\n",
              "    </tr>\n",
              "  </tbody>\n",
              "</table>\n",
              "</div>\n",
              "      <button class=\"colab-df-convert\" onclick=\"convertToInteractive('df-7284ec2a-a519-4cc2-a159-5defe34204dc')\"\n",
              "              title=\"Convert this dataframe to an interactive table.\"\n",
              "              style=\"display:none;\">\n",
              "        \n",
              "  <svg xmlns=\"http://www.w3.org/2000/svg\" height=\"24px\"viewBox=\"0 0 24 24\"\n",
              "       width=\"24px\">\n",
              "    <path d=\"M0 0h24v24H0V0z\" fill=\"none\"/>\n",
              "    <path d=\"M18.56 5.44l.94 2.06.94-2.06 2.06-.94-2.06-.94-.94-2.06-.94 2.06-2.06.94zm-11 1L8.5 8.5l.94-2.06 2.06-.94-2.06-.94L8.5 2.5l-.94 2.06-2.06.94zm10 10l.94 2.06.94-2.06 2.06-.94-2.06-.94-.94-2.06-.94 2.06-2.06.94z\"/><path d=\"M17.41 7.96l-1.37-1.37c-.4-.4-.92-.59-1.43-.59-.52 0-1.04.2-1.43.59L10.3 9.45l-7.72 7.72c-.78.78-.78 2.05 0 2.83L4 21.41c.39.39.9.59 1.41.59.51 0 1.02-.2 1.41-.59l7.78-7.78 2.81-2.81c.8-.78.8-2.07 0-2.86zM5.41 20L4 18.59l7.72-7.72 1.47 1.35L5.41 20z\"/>\n",
              "  </svg>\n",
              "      </button>\n",
              "      \n",
              "  <style>\n",
              "    .colab-df-container {\n",
              "      display:flex;\n",
              "      flex-wrap:wrap;\n",
              "      gap: 12px;\n",
              "    }\n",
              "\n",
              "    .colab-df-convert {\n",
              "      background-color: #E8F0FE;\n",
              "      border: none;\n",
              "      border-radius: 50%;\n",
              "      cursor: pointer;\n",
              "      display: none;\n",
              "      fill: #1967D2;\n",
              "      height: 32px;\n",
              "      padding: 0 0 0 0;\n",
              "      width: 32px;\n",
              "    }\n",
              "\n",
              "    .colab-df-convert:hover {\n",
              "      background-color: #E2EBFA;\n",
              "      box-shadow: 0px 1px 2px rgba(60, 64, 67, 0.3), 0px 1px 3px 1px rgba(60, 64, 67, 0.15);\n",
              "      fill: #174EA6;\n",
              "    }\n",
              "\n",
              "    [theme=dark] .colab-df-convert {\n",
              "      background-color: #3B4455;\n",
              "      fill: #D2E3FC;\n",
              "    }\n",
              "\n",
              "    [theme=dark] .colab-df-convert:hover {\n",
              "      background-color: #434B5C;\n",
              "      box-shadow: 0px 1px 3px 1px rgba(0, 0, 0, 0.15);\n",
              "      filter: drop-shadow(0px 1px 2px rgba(0, 0, 0, 0.3));\n",
              "      fill: #FFFFFF;\n",
              "    }\n",
              "  </style>\n",
              "\n",
              "      <script>\n",
              "        const buttonEl =\n",
              "          document.querySelector('#df-7284ec2a-a519-4cc2-a159-5defe34204dc button.colab-df-convert');\n",
              "        buttonEl.style.display =\n",
              "          google.colab.kernel.accessAllowed ? 'block' : 'none';\n",
              "\n",
              "        async function convertToInteractive(key) {\n",
              "          const element = document.querySelector('#df-7284ec2a-a519-4cc2-a159-5defe34204dc');\n",
              "          const dataTable =\n",
              "            await google.colab.kernel.invokeFunction('convertToInteractive',\n",
              "                                                     [key], {});\n",
              "          if (!dataTable) return;\n",
              "\n",
              "          const docLinkHtml = 'Like what you see? Visit the ' +\n",
              "            '<a target=\"_blank\" href=https://colab.research.google.com/notebooks/data_table.ipynb>data table notebook</a>'\n",
              "            + ' to learn more about interactive tables.';\n",
              "          element.innerHTML = '';\n",
              "          dataTable['output_type'] = 'display_data';\n",
              "          await google.colab.output.renderOutput(dataTable, element);\n",
              "          const docLink = document.createElement('div');\n",
              "          docLink.innerHTML = docLinkHtml;\n",
              "          element.appendChild(docLink);\n",
              "        }\n",
              "      </script>\n",
              "    </div>\n",
              "  </div>\n",
              "  "
            ]
          },
          "metadata": {},
          "execution_count": 97
        }
      ]
    },
    {
      "cell_type": "markdown",
      "source": [
        "###Salário"
      ],
      "metadata": {
        "id": "IN6_PwzlYYOn"
      }
    },
    {
      "cell_type": "code",
      "source": [
        "from matplotlib import ticker\n",
        "plt.figure(figsize=(14,7))\n",
        "ax = sns.histplot(data= dados2, x=\"salario_pessoa\")\n",
        "ax.xaxis.set_major_formatter(ticker.StrMethodFormatter(\"{x:,.2f}\"))"
      ],
      "metadata": {
        "colab": {
          "base_uri": "https://localhost:8080/",
          "height": 443
        },
        "id": "LdCa9Z-OYcbj",
        "outputId": "d758a493-b11f-49eb-fc68-7bc396b0d670"
      },
      "execution_count": 98,
      "outputs": [
        {
          "output_type": "display_data",
          "data": {
            "text/plain": [
              "<Figure size 1008x504 with 1 Axes>"
            ],
            "image/png": "[encoded data removed]"
          },
          "metadata": {
            "needs_background": "light"
          }
        }
      ]
    },
    {
      "cell_type": "markdown",
      "source": [
        "Vamos analisar as pessoas com salário maior que 1 milhão  (lembrando que é o salário anual)"
      ],
      "metadata": {
        "id": "7IY5OF3hbAQ4"
      }
    },
    {
      "cell_type": "code",
      "source": [
        "dados2.loc[dados2[\"salario_pessoa\"] > 1000000]"
      ],
      "metadata": {
        "colab": {
          "base_uri": "https://localhost:8080/",
          "height": 319
        },
        "id": "ee0G8lXsa_Ri",
        "outputId": "57f25f9e-66de-4e8a-b00e-a5de41c7fd6e"
      },
      "execution_count": 99,
      "outputs": [
        {
          "output_type": "execute_result",
          "data": {
            "text/plain": [
              "      idade_pessoa  salario_pessoa situacao_propriedade_pessoa  \\\n",
              "12120            3       1200000.0                    Hipoteca   \n",
              "22959            4       2039784.0                     Aluguel   \n",
              "27096            4       1362000.0                    Hipoteca   \n",
              "27178            3       1200000.0                     Própria   \n",
              "28402            6       1782000.0                     Aluguel   \n",
              "28542            4       1440000.0                    Hipoteca   \n",
              "\n",
              "       tempo_trabalhado_pessoa     motivo_emprestimo pontuacao_emprestimo  \\\n",
              "12120                      1.0        Empreendimento                    A   \n",
              "22959                      0.0        Empreendimento                    C   \n",
              "27096                      9.0        Empreendimento                    A   \n",
              "27178                     16.0                Médico                    A   \n",
              "28402                     13.0             Educativo                    C   \n",
              "28542                      7.0  Pagamento de débitos                    A   \n",
              "\n",
              "       valor_emprestimo  taxa_juros_emprestimo  status_emprestimo  \\\n",
              "12120           12000.0                   7.51                0.0   \n",
              "22959            8450.0                  12.29                0.0   \n",
              "27096            6600.0                   7.74                0.0   \n",
              "27178           10000.0                   6.54                0.0   \n",
              "28402           12025.0                  14.27                0.0   \n",
              "28542            6400.0                   7.40                0.0   \n",
              "\n",
              "       porcentagem_salario_emprestimo foi_inadimplente_cb  \\\n",
              "12120                            0.01                   N   \n",
              "22959                            0.00                   S   \n",
              "27096                            0.00                   N   \n",
              "27178                            0.01                   N   \n",
              "28402                            0.01                   N   \n",
              "28542                            0.00                   N   \n",
              "\n",
              "       tempo_primeira_solicitacao_credito_cb  \n",
              "12120                                      8  \n",
              "22959                                     15  \n",
              "27096                                     17  \n",
              "27178                                     11  \n",
              "28402                                     30  \n",
              "28542                                     15  "
            ],
            "text/html": [
              "\n",
              "  <div id=\"df-15e3e6c1-5702-4713-b883-f6fb5e1ee4d7\">\n",
              "    <div class=\"colab-df-container\">\n",
              "      <div>\n",
              "<style scoped>\n",
              "    .dataframe tbody tr th:only-of-type {\n",
              "        vertical-align: middle;\n",
              "    }\n",
              "\n",
              "    .dataframe tbody tr th {\n",
              "        vertical-align: top;\n",
              "    }\n",
              "\n",
              "    .dataframe thead th {\n",
              "        text-align: right;\n",
              "    }\n",
              "</style>\n",
              "<table border=\"1\" class=\"dataframe\">\n",
              "  <thead>\n",
              "    <tr style=\"text-align: right;\">\n",
              "      <th></th>\n",
              "      <th>idade_pessoa</th>\n",
              "      <th>salario_pessoa</th>\n",
              "      <th>situacao_propriedade_pessoa</th>\n",
              "      <th>tempo_trabalhado_pessoa</th>\n",
              "      <th>motivo_emprestimo</th>\n",
              "      <th>pontuacao_emprestimo</th>\n",
              "      <th>valor_emprestimo</th>\n",
              "      <th>taxa_juros_emprestimo</th>\n",
              "      <th>status_emprestimo</th>\n",
              "      <th>porcentagem_salario_emprestimo</th>\n",
              "      <th>foi_inadimplente_cb</th>\n",
              "      <th>tempo_primeira_solicitacao_credito_cb</th>\n",
              "    </tr>\n",
              "  </thead>\n",
              "  <tbody>\n",
              "    <tr>\n",
              "      <th>12120</th>\n",
              "      <td>3</td>\n",
              "      <td>1200000.0</td>\n",
              "      <td>Hipoteca</td>\n",
              "      <td>1.0</td>\n",
              "      <td>Empreendimento</td>\n",
              "      <td>A</td>\n",
              "      <td>12000.0</td>\n",
              "      <td>7.51</td>\n",
              "      <td>0.0</td>\n",
              "      <td>0.01</td>\n",
              "      <td>N</td>\n",
              "      <td>8</td>\n",
              "    </tr>\n",
              "    <tr>\n",
              "      <th>22959</th>\n",
              "      <td>4</td>\n",
              "      <td>2039784.0</td>\n",
              "      <td>Aluguel</td>\n",
              "      <td>0.0</td>\n",
              "      <td>Empreendimento</td>\n",
              "      <td>C</td>\n",
              "      <td>8450.0</td>\n",
              "      <td>12.29</td>\n",
              "      <td>0.0</td>\n",
              "      <td>0.00</td>\n",
              "      <td>S</td>\n",
              "      <td>15</td>\n",
              "    </tr>\n",
              "    <tr>\n",
              "      <th>27096</th>\n",
              "      <td>4</td>\n",
              "      <td>1362000.0</td>\n",
              "      <td>Hipoteca</td>\n",
              "      <td>9.0</td>\n",
              "      <td>Empreendimento</td>\n",
              "      <td>A</td>\n",
              "      <td>6600.0</td>\n",
              "      <td>7.74</td>\n",
              "      <td>0.0</td>\n",
              "      <td>0.00</td>\n",
              "      <td>N</td>\n",
              "      <td>17</td>\n",
              "    </tr>\n",
              "    <tr>\n",
              "      <th>27178</th>\n",
              "      <td>3</td>\n",
              "      <td>1200000.0</td>\n",
              "      <td>Própria</td>\n",
              "      <td>16.0</td>\n",
              "      <td>Médico</td>\n",
              "      <td>A</td>\n",
              "      <td>10000.0</td>\n",
              "      <td>6.54</td>\n",
              "      <td>0.0</td>\n",
              "      <td>0.01</td>\n",
              "      <td>N</td>\n",
              "      <td>11</td>\n",
              "    </tr>\n",
              "    <tr>\n",
              "      <th>28402</th>\n",
              "      <td>6</td>\n",
              "      <td>1782000.0</td>\n",
              "      <td>Aluguel</td>\n",
              "      <td>13.0</td>\n",
              "      <td>Educativo</td>\n",
              "      <td>C</td>\n",
              "      <td>12025.0</td>\n",
              "      <td>14.27</td>\n",
              "      <td>0.0</td>\n",
              "      <td>0.01</td>\n",
              "      <td>N</td>\n",
              "      <td>30</td>\n",
              "    </tr>\n",
              "    <tr>\n",
              "      <th>28542</th>\n",
              "      <td>4</td>\n",
              "      <td>1440000.0</td>\n",
              "      <td>Hipoteca</td>\n",
              "      <td>7.0</td>\n",
              "      <td>Pagamento de débitos</td>\n",
              "      <td>A</td>\n",
              "      <td>6400.0</td>\n",
              "      <td>7.40</td>\n",
              "      <td>0.0</td>\n",
              "      <td>0.00</td>\n",
              "      <td>N</td>\n",
              "      <td>15</td>\n",
              "    </tr>\n",
              "  </tbody>\n",
              "</table>\n",
              "</div>\n",
              "      <button class=\"colab-df-convert\" onclick=\"convertToInteractive('df-15e3e6c1-5702-4713-b883-f6fb5e1ee4d7')\"\n",
              "              title=\"Convert this dataframe to an interactive table.\"\n",
              "              style=\"display:none;\">\n",
              "        \n",
              "  <svg xmlns=\"http://www.w3.org/2000/svg\" height=\"24px\"viewBox=\"0 0 24 24\"\n",
              "       width=\"24px\">\n",
              "    <path d=\"M0 0h24v24H0V0z\" fill=\"none\"/>\n",
              "    <path d=\"M18.56 5.44l.94 2.06.94-2.06 2.06-.94-2.06-.94-.94-2.06-.94 2.06-2.06.94zm-11 1L8.5 8.5l.94-2.06 2.06-.94-2.06-.94L8.5 2.5l-.94 2.06-2.06.94zm10 10l.94 2.06.94-2.06 2.06-.94-2.06-.94-.94-2.06-.94 2.06-2.06.94z\"/><path d=\"M17.41 7.96l-1.37-1.37c-.4-.4-.92-.59-1.43-.59-.52 0-1.04.2-1.43.59L10.3 9.45l-7.72 7.72c-.78.78-.78 2.05 0 2.83L4 21.41c.39.39.9.59 1.41.59.51 0 1.02-.2 1.41-.59l7.78-7.78 2.81-2.81c.8-.78.8-2.07 0-2.86zM5.41 20L4 18.59l7.72-7.72 1.47 1.35L5.41 20z\"/>\n",
              "  </svg>\n",
              "      </button>\n",
              "      \n",
              "  <style>\n",
              "    .colab-df-container {\n",
              "      display:flex;\n",
              "      flex-wrap:wrap;\n",
              "      gap: 12px;\n",
              "    }\n",
              "\n",
              "    .colab-df-convert {\n",
              "      background-color: #E8F0FE;\n",
              "      border: none;\n",
              "      border-radius: 50%;\n",
              "      cursor: pointer;\n",
              "      display: none;\n",
              "      fill: #1967D2;\n",
              "      height: 32px;\n",
              "      padding: 0 0 0 0;\n",
              "      width: 32px;\n",
              "    }\n",
              "\n",
              "    .colab-df-convert:hover {\n",
              "      background-color: #E2EBFA;\n",
              "      box-shadow: 0px 1px 2px rgba(60, 64, 67, 0.3), 0px 1px 3px 1px rgba(60, 64, 67, 0.15);\n",
              "      fill: #174EA6;\n",
              "    }\n",
              "\n",
              "    [theme=dark] .colab-df-convert {\n",
              "      background-color: #3B4455;\n",
              "      fill: #D2E3FC;\n",
              "    }\n",
              "\n",
              "    [theme=dark] .colab-df-convert:hover {\n",
              "      background-color: #434B5C;\n",
              "      box-shadow: 0px 1px 3px 1px rgba(0, 0, 0, 0.15);\n",
              "      filter: drop-shadow(0px 1px 2px rgba(0, 0, 0, 0.3));\n",
              "      fill: #FFFFFF;\n",
              "    }\n",
              "  </style>\n",
              "\n",
              "      <script>\n",
              "        const buttonEl =\n",
              "          document.querySelector('#df-15e3e6c1-5702-4713-b883-f6fb5e1ee4d7 button.colab-df-convert');\n",
              "        buttonEl.style.display =\n",
              "          google.colab.kernel.accessAllowed ? 'block' : 'none';\n",
              "\n",
              "        async function convertToInteractive(key) {\n",
              "          const element = document.querySelector('#df-15e3e6c1-5702-4713-b883-f6fb5e1ee4d7');\n",
              "          const dataTable =\n",
              "            await google.colab.kernel.invokeFunction('convertToInteractive',\n",
              "                                                     [key], {});\n",
              "          if (!dataTable) return;\n",
              "\n",
              "          const docLinkHtml = 'Like what you see? Visit the ' +\n",
              "            '<a target=\"_blank\" href=https://colab.research.google.com/notebooks/data_table.ipynb>data table notebook</a>'\n",
              "            + ' to learn more about interactive tables.';\n",
              "          element.innerHTML = '';\n",
              "          dataTable['output_type'] = 'display_data';\n",
              "          await google.colab.output.renderOutput(dataTable, element);\n",
              "          const docLink = document.createElement('div');\n",
              "          docLink.innerHTML = docLinkHtml;\n",
              "          element.appendChild(docLink);\n",
              "        }\n",
              "      </script>\n",
              "    </div>\n",
              "  </div>\n",
              "  "
            ]
          },
          "metadata": {},
          "execution_count": 99
        }
      ]
    },
    {
      "cell_type": "markdown",
      "source": [
        "Existem algumas coisas questionáveis, como uma pessoa com 0 de tempo trabalhado ganhar mais de 1 milhão por ano, mas não vou considerar como um erro. Irei transformar o salário em faixas salariais mais tarde para não ter tanta variação e tirar estes outliers."
      ],
      "metadata": {
        "id": "v8KdAwVxfdRL"
      }
    },
    {
      "cell_type": "code",
      "source": [
        "#Visualizando o salário anual dos clientes que são menos de 1 milhão.\n",
        "plt.figure(figsize=(14,7))\n",
        "ax = sns.histplot(data= dados2.loc[dados2[\"salario_pessoa\"] < 1000000], x=\"salario_pessoa\")\n",
        "ax.xaxis.set_major_formatter(ticker.StrMethodFormatter(\"{x:,.2f}\"))"
      ],
      "metadata": {
        "colab": {
          "base_uri": "https://localhost:8080/",
          "height": 443
        },
        "id": "GZBhyS4mh4rZ",
        "outputId": "621b7002-08bc-4731-e296-6e60ad808edf"
      },
      "execution_count": 100,
      "outputs": [
        {
          "output_type": "display_data",
          "data": {
            "text/plain": [
              "<Figure size 1008x504 with 1 Axes>"
            ],
            "image/png": "[encoded data removed]"
          },
          "metadata": {
            "needs_background": "light"
          }
        }
      ]
    },
    {
      "cell_type": "code",
      "source": [
        "sns.boxplot(data= dados2.loc[dados2[\"salario_pessoa\"] < 300000][\"salario_pessoa\"], orient=\"v\")"
      ],
      "metadata": {
        "colab": {
          "base_uri": "https://localhost:8080/",
          "height": 282
        },
        "id": "3taBYn0sjPhu",
        "outputId": "c8d316dd-2965-4ebd-df8f-7279eaed7e70"
      },
      "execution_count": 101,
      "outputs": [
        {
          "output_type": "execute_result",
          "data": {
            "text/plain": [
              "<matplotlib.axes._subplots.AxesSubplot at 0x7f8514989910>"
            ]
          },
          "metadata": {},
          "execution_count": 101
        },
        {
          "output_type": "display_data",
          "data": {
            "text/plain": [
              "<Figure size 432x288 with 1 Axes>"
            ],
            "image/png": "[encoded data removed]"
          },
          "metadata": {
            "needs_background": "light"
          }
        }
      ]
    },
    {
      "cell_type": "markdown",
      "source": [
        "Podemos ver que 75% dos clientes ganham entre cinquenta mil e cem mil por ano.\n",
        "\n",
        "Segundo o site infomoney as classes de renda são divididas da seguinte forma:\n",
        "\n",
        "Estratificação dos domicílios em 2022:\n",
        "\n",
        "Classe A: 2,8% (renda mensal domiciliar superior a 22 mil reais)\n",
        "\n",
        "Classe B: 13,2% (renda mensal domiciliar entre 7,1 mil e 22 mil reais)\n",
        "\n",
        "Classe C: 33,3% (renda mensal domiciliar entre 2,9 mil e 7,1 mil reais)\n",
        "\n",
        "Classes D/E: 50,7% (renda mensal domiciliar até 2,9 mil reais)\n",
        "\n",
        "Fonte: https://www.infomoney.com.br/minhas-financas/classes-d-e-e-continuarao-a-ser-mais-da-metade-da-populacao-ate-2024-projeta-consultoria/#:~:text=Estratifica%C3%A7%C3%A3o%20dos%20domic%C3%ADlios%20em%202022,R%24%202%2C9%20mil)"
      ],
      "metadata": {
        "id": "Nl903uE0jKnO"
      }
    },
    {
      "cell_type": "code",
      "source": [
        "#Transformando a coluna salario_pessoa para as classes logo acima\n",
        "classe_e_d = 2900 * 12\n",
        "classe_c = 7100 * 12\n",
        "classe_b = 22200 * 12\n",
        "faixa_salarial = pd.cut(x=dados2[\"salario_pessoa\"], bins = [0, classe_e_d, classe_c, classe_b, dados2[\"salario_pessoa\"].max()], labels=[1, 2, 3, 4])\n",
        "dados3 = dados2.copy()\n",
        "dados3[\"salario_pessoa\"] = faixa_salarial"
      ],
      "metadata": {
        "id": "eH3B9lKeimY6"
      },
      "execution_count": 102,
      "outputs": []
    },
    {
      "cell_type": "code",
      "source": [
        "dados3[\"salario_pessoa\"].value_counts(normalize=True)*100"
      ],
      "metadata": {
        "colab": {
          "base_uri": "https://localhost:8080/"
        },
        "id": "j5RobmNhtAfa",
        "outputId": "89e0896c-8e94-48f1-8378-af9eb03eae22"
      },
      "execution_count": 103,
      "outputs": [
        {
          "output_type": "execute_result",
          "data": {
            "text/plain": [
              "2    61.158064\n",
              "3    19.930851\n",
              "1    18.251030\n",
              "4     0.660054\n",
              "Name: salario_pessoa, dtype: float64"
            ]
          },
          "metadata": {},
          "execution_count": 103
        }
      ]
    },
    {
      "cell_type": "markdown",
      "source": [
        "Como podemos observar, 60% dos clientes estão na classe C, 19% na classe B, outros 19% na classe D e E, e 0,6% na classe A."
      ],
      "metadata": {
        "id": "CHfbnpSNxiZA"
      }
    },
    {
      "cell_type": "markdown",
      "source": [
        "### Situação da propriedade"
      ],
      "metadata": {
        "id": "VU3HRDRSyPlb"
      }
    },
    {
      "cell_type": "code",
      "source": [
        "dados3[\"situacao_propriedade_pessoa\"].value_counts()"
      ],
      "metadata": {
        "colab": {
          "base_uri": "https://localhost:8080/"
        },
        "id": "FjM9lcR8xAo5",
        "outputId": "c9379511-ebca-414c-cc64-ca009e408bbf"
      },
      "execution_count": 104,
      "outputs": [
        {
          "output_type": "execute_result",
          "data": {
            "text/plain": [
              "Aluguel     14549\n",
              "Hipoteca    11799\n",
              "Própria      2192\n",
              "Outro          94\n",
              "Name: situacao_propriedade_pessoa, dtype: int64"
            ]
          },
          "metadata": {},
          "execution_count": 104
        }
      ]
    },
    {
      "cell_type": "markdown",
      "source": [
        "A maioria das pessoas pedindo empréstimo estão em situação de aluguel e hipoteca, indicando que pessoas nesta situação tendem a pedir mais empréstimos."
      ],
      "metadata": {
        "id": "f88pNKuB2FIl"
      }
    },
    {
      "cell_type": "code",
      "source": [
        "troca = {\n",
        "    \"Aluguel\" : 1,\n",
        "    \"Hipoteca\" : 2,\n",
        "    \"Própria\" : 3,\n",
        "    \"Outro\" : 4\n",
        "}\n",
        "\n",
        "dados4 = dados3.copy()\n",
        "dados4[\"situacao_propriedade_pessoa\"] = dados4[\"situacao_propriedade_pessoa\"].map(troca)"
      ],
      "metadata": {
        "id": "hUl89mFu09Iv"
      },
      "execution_count": 105,
      "outputs": []
    },
    {
      "cell_type": "markdown",
      "source": [
        "###Tempo trabalhado"
      ],
      "metadata": {
        "id": "7Gfa-gtZ1scV"
      }
    },
    {
      "cell_type": "code",
      "source": [
        "dados4[\"tempo_trabalhado_pessoa\"].value_counts()"
      ],
      "metadata": {
        "colab": {
          "base_uri": "https://localhost:8080/"
        },
        "id": "qrwBgfpt1wn0",
        "outputId": "e21c6dec-cc88-477c-edf8-71d62faebeff"
      },
      "execution_count": 106,
      "outputs": [
        {
          "output_type": "execute_result",
          "data": {
            "text/plain": [
              "0.0      3708\n",
              "2.0      3468\n",
              "3.0      3133\n",
              "5.0      2715\n",
              "1.0      2644\n",
              "4.0      2569\n",
              "6.0      2394\n",
              "7.0      1971\n",
              "8.0      1534\n",
              "9.0      1227\n",
              "11.0      663\n",
              "10.0      631\n",
              "12.0      518\n",
              "13.0      380\n",
              "14.0      306\n",
              "15.0      213\n",
              "16.0      152\n",
              "17.0      115\n",
              "18.0       96\n",
              "19.0       61\n",
              "20.0       36\n",
              "21.0       33\n",
              "22.0       18\n",
              "23.0       10\n",
              "25.0        8\n",
              "24.0        8\n",
              "27.0        5\n",
              "26.0        4\n",
              "31.0        4\n",
              "28.0        2\n",
              "123.0       2\n",
              "30.0        2\n",
              "29.0        1\n",
              "41.0        1\n",
              "38.0        1\n",
              "34.0        1\n",
              "Name: tempo_trabalhado_pessoa, dtype: int64"
            ]
          },
          "metadata": {},
          "execution_count": 106
        }
      ]
    },
    {
      "cell_type": "markdown",
      "source": [
        "A maior parte dos clientes trabalharam de 0 a 3 anos."
      ],
      "metadata": {
        "id": "w6A4-Iy118kU"
      }
    },
    {
      "cell_type": "markdown",
      "source": [
        "##Dados de empréstimo"
      ],
      "metadata": {
        "id": "nP11EFZ2-GOb"
      }
    },
    {
      "cell_type": "markdown",
      "source": [
        "###Motivo do empréstimo"
      ],
      "metadata": {
        "id": "IjmX4Ygp2F6v"
      }
    },
    {
      "cell_type": "code",
      "source": [
        "dados4[\"motivo_emprestimo\"].value_counts()"
      ],
      "metadata": {
        "colab": {
          "base_uri": "https://localhost:8080/"
        },
        "id": "cI4PgeKe11Iq",
        "outputId": "4f2a7579-dc9d-4c4d-afcb-b2a3c5072e18"
      },
      "execution_count": 107,
      "outputs": [
        {
          "output_type": "execute_result",
          "data": {
            "text/plain": [
              "Educativo               5702\n",
              "Médico                  5293\n",
              "Empreendimento          5000\n",
              "Personal                4876\n",
              "Pagamento de débitos    4565\n",
              "Melhora do lar          3198\n",
              "Name: motivo_emprestimo, dtype: int64"
            ]
          },
          "metadata": {},
          "execution_count": 107
        }
      ]
    },
    {
      "cell_type": "markdown",
      "source": [
        "O motivo do empréstimo está bem balanceado e distribuído."
      ],
      "metadata": {
        "id": "jheBXBgn2QE6"
      }
    },
    {
      "cell_type": "code",
      "source": [
        "troca = {\n",
        "    \"Educativo\" : 1,\n",
        "    \"Médico\" : 2,\n",
        "    \"Empreendimento\": 3,\n",
        "    \"Personal\" : 4,\n",
        "    \"Pagamento de débitos\" : 5,\n",
        "    \"Melhora do lar\": 6\n",
        "}\n",
        "\n",
        "dados5 = dados4.copy()\n",
        "dados5[\"motivo_emprestimo\"] = dados5[\"motivo_emprestimo\"].map(troca)"
      ],
      "metadata": {
        "id": "g46s2n-h4GXa"
      },
      "execution_count": 108,
      "outputs": []
    },
    {
      "cell_type": "markdown",
      "source": [
        "###Pontuacao Emprestimo"
      ],
      "metadata": {
        "id": "lbJmNHzb7AOk"
      }
    },
    {
      "cell_type": "code",
      "source": [
        "dados5[\"pontuacao_emprestimo\"].value_counts()"
      ],
      "metadata": {
        "colab": {
          "base_uri": "https://localhost:8080/"
        },
        "id": "C01lo5jk7HYz",
        "outputId": "420f4bf9-dcc2-4839-dcd3-3d7db9cbc8c0"
      },
      "execution_count": 109,
      "outputs": [
        {
          "output_type": "execute_result",
          "data": {
            "text/plain": [
              "A    9402\n",
              "B    9149\n",
              "C    5697\n",
              "D    3248\n",
              "E     870\n",
              "F     209\n",
              "G      59\n",
              "Name: pontuacao_emprestimo, dtype: int64"
            ]
          },
          "metadata": {},
          "execution_count": 109
        }
      ]
    },
    {
      "cell_type": "markdown",
      "source": [
        "A maior parte dos clientes estão pontuando A e B"
      ],
      "metadata": {
        "id": "rYB0Weuo7Pbt"
      }
    },
    {
      "cell_type": "code",
      "source": [
        "troca = {\n",
        "    \"A\" : 1,\n",
        "    \"B\" : 2,\n",
        "    \"C\": 3,\n",
        "    \"D\" : 4,\n",
        "    \"E\" : 5,\n",
        "    \"F\": 6,\n",
        "    \"G\": 7\n",
        "}\n",
        "dados6 = dados5.copy()\n",
        "dados6[\"pontuacao_emprestimo\"] = dados6[\"pontuacao_emprestimo\"].map(troca)\n",
        "dados6.head()"
      ],
      "metadata": {
        "colab": {
          "base_uri": "https://localhost:8080/",
          "height": 270
        },
        "id": "sxVRTrbL7TWX",
        "outputId": "c1bafd47-7597-4b01-fc06-a4e2353c6ed2"
      },
      "execution_count": 110,
      "outputs": [
        {
          "output_type": "execute_result",
          "data": {
            "text/plain": [
              "  idade_pessoa salario_pessoa  situacao_propriedade_pessoa  \\\n",
              "0            1              2                            1   \n",
              "1            2              2                            1   \n",
              "2            2              2                            3   \n",
              "3            2              2                            1   \n",
              "4            1              2                            1   \n",
              "\n",
              "   tempo_trabalhado_pessoa  motivo_emprestimo  pontuacao_emprestimo  \\\n",
              "0                      3.0                  5                     1   \n",
              "1                      2.0                  2                     1   \n",
              "2                     11.0                  1                     2   \n",
              "3                      2.0                  1                     1   \n",
              "4                      0.0                  5                     4   \n",
              "\n",
              "   valor_emprestimo  taxa_juros_emprestimo  status_emprestimo  \\\n",
              "0            6250.0                   6.99                0.0   \n",
              "1            6550.0                   7.88                0.0   \n",
              "2           15000.0                  12.18                0.0   \n",
              "3            3600.0                   8.94                0.0   \n",
              "4           15000.0                  14.83                1.0   \n",
              "\n",
              "   porcentagem_salario_emprestimo foi_inadimplente_cb  \\\n",
              "0                            0.12                   N   \n",
              "1                            0.16                   N   \n",
              "2                            0.18                   N   \n",
              "3                            0.10                   N   \n",
              "4                            0.27                   S   \n",
              "\n",
              "   tempo_primeira_solicitacao_credito_cb  \n",
              "0                                      3  \n",
              "1                                      8  \n",
              "2                                     10  \n",
              "3                                     10  \n",
              "4                                      4  "
            ],
            "text/html": [
              "\n",
              "  <div id=\"df-72188855-b926-40a6-931c-411840c936d1\">\n",
              "    <div class=\"colab-df-container\">\n",
              "      <div>\n",
              "<style scoped>\n",
              "    .dataframe tbody tr th:only-of-type {\n",
              "        vertical-align: middle;\n",
              "    }\n",
              "\n",
              "    .dataframe tbody tr th {\n",
              "        vertical-align: top;\n",
              "    }\n",
              "\n",
              "    .dataframe thead th {\n",
              "        text-align: right;\n",
              "    }\n",
              "</style>\n",
              "<table border=\"1\" class=\"dataframe\">\n",
              "  <thead>\n",
              "    <tr style=\"text-align: right;\">\n",
              "      <th></th>\n",
              "      <th>idade_pessoa</th>\n",
              "      <th>salario_pessoa</th>\n",
              "      <th>situacao_propriedade_pessoa</th>\n",
              "      <th>tempo_trabalhado_pessoa</th>\n",
              "      <th>motivo_emprestimo</th>\n",
              "      <th>pontuacao_emprestimo</th>\n",
              "      <th>valor_emprestimo</th>\n",
              "      <th>taxa_juros_emprestimo</th>\n",
              "      <th>status_emprestimo</th>\n",
              "      <th>porcentagem_salario_emprestimo</th>\n",
              "      <th>foi_inadimplente_cb</th>\n",
              "      <th>tempo_primeira_solicitacao_credito_cb</th>\n",
              "    </tr>\n",
              "  </thead>\n",
              "  <tbody>\n",
              "    <tr>\n",
              "      <th>0</th>\n",
              "      <td>1</td>\n",
              "      <td>2</td>\n",
              "      <td>1</td>\n",
              "      <td>3.0</td>\n",
              "      <td>5</td>\n",
              "      <td>1</td>\n",
              "      <td>6250.0</td>\n",
              "      <td>6.99</td>\n",
              "      <td>0.0</td>\n",
              "      <td>0.12</td>\n",
              "      <td>N</td>\n",
              "      <td>3</td>\n",
              "    </tr>\n",
              "    <tr>\n",
              "      <th>1</th>\n",
              "      <td>2</td>\n",
              "      <td>2</td>\n",
              "      <td>1</td>\n",
              "      <td>2.0</td>\n",
              "      <td>2</td>\n",
              "      <td>1</td>\n",
              "      <td>6550.0</td>\n",
              "      <td>7.88</td>\n",
              "      <td>0.0</td>\n",
              "      <td>0.16</td>\n",
              "      <td>N</td>\n",
              "      <td>8</td>\n",
              "    </tr>\n",
              "    <tr>\n",
              "      <th>2</th>\n",
              "      <td>2</td>\n",
              "      <td>2</td>\n",
              "      <td>3</td>\n",
              "      <td>11.0</td>\n",
              "      <td>1</td>\n",
              "      <td>2</td>\n",
              "      <td>15000.0</td>\n",
              "      <td>12.18</td>\n",
              "      <td>0.0</td>\n",
              "      <td>0.18</td>\n",
              "      <td>N</td>\n",
              "      <td>10</td>\n",
              "    </tr>\n",
              "    <tr>\n",
              "      <th>3</th>\n",
              "      <td>2</td>\n",
              "      <td>2</td>\n",
              "      <td>1</td>\n",
              "      <td>2.0</td>\n",
              "      <td>1</td>\n",
              "      <td>1</td>\n",
              "      <td>3600.0</td>\n",
              "      <td>8.94</td>\n",
              "      <td>0.0</td>\n",
              "      <td>0.10</td>\n",
              "      <td>N</td>\n",
              "      <td>10</td>\n",
              "    </tr>\n",
              "    <tr>\n",
              "      <th>4</th>\n",
              "      <td>1</td>\n",
              "      <td>2</td>\n",
              "      <td>1</td>\n",
              "      <td>0.0</td>\n",
              "      <td>5</td>\n",
              "      <td>4</td>\n",
              "      <td>15000.0</td>\n",
              "      <td>14.83</td>\n",
              "      <td>1.0</td>\n",
              "      <td>0.27</td>\n",
              "      <td>S</td>\n",
              "      <td>4</td>\n",
              "    </tr>\n",
              "  </tbody>\n",
              "</table>\n",
              "</div>\n",
              "      <button class=\"colab-df-convert\" onclick=\"convertToInteractive('df-72188855-b926-40a6-931c-411840c936d1')\"\n",
              "              title=\"Convert this dataframe to an interactive table.\"\n",
              "              style=\"display:none;\">\n",
              "        \n",
              "  <svg xmlns=\"http://www.w3.org/2000/svg\" height=\"24px\"viewBox=\"0 0 24 24\"\n",
              "       width=\"24px\">\n",
              "    <path d=\"M0 0h24v24H0V0z\" fill=\"none\"/>\n",
              "    <path d=\"M18.56 5.44l.94 2.06.94-2.06 2.06-.94-2.06-.94-.94-2.06-.94 2.06-2.06.94zm-11 1L8.5 8.5l.94-2.06 2.06-.94-2.06-.94L8.5 2.5l-.94 2.06-2.06.94zm10 10l.94 2.06.94-2.06 2.06-.94-2.06-.94-.94-2.06-.94 2.06-2.06.94z\"/><path d=\"M17.41 7.96l-1.37-1.37c-.4-.4-.92-.59-1.43-.59-.52 0-1.04.2-1.43.59L10.3 9.45l-7.72 7.72c-.78.78-.78 2.05 0 2.83L4 21.41c.39.39.9.59 1.41.59.51 0 1.02-.2 1.41-.59l7.78-7.78 2.81-2.81c.8-.78.8-2.07 0-2.86zM5.41 20L4 18.59l7.72-7.72 1.47 1.35L5.41 20z\"/>\n",
              "  </svg>\n",
              "      </button>\n",
              "      \n",
              "  <style>\n",
              "    .colab-df-container {\n",
              "      display:flex;\n",
              "      flex-wrap:wrap;\n",
              "      gap: 12px;\n",
              "    }\n",
              "\n",
              "    .colab-df-convert {\n",
              "      background-color: #E8F0FE;\n",
              "      border: none;\n",
              "      border-radius: 50%;\n",
              "      cursor: pointer;\n",
              "      display: none;\n",
              "      fill: #1967D2;\n",
              "      height: 32px;\n",
              "      padding: 0 0 0 0;\n",
              "      width: 32px;\n",
              "    }\n",
              "\n",
              "    .colab-df-convert:hover {\n",
              "      background-color: #E2EBFA;\n",
              "      box-shadow: 0px 1px 2px rgba(60, 64, 67, 0.3), 0px 1px 3px 1px rgba(60, 64, 67, 0.15);\n",
              "      fill: #174EA6;\n",
              "    }\n",
              "\n",
              "    [theme=dark] .colab-df-convert {\n",
              "      background-color: #3B4455;\n",
              "      fill: #D2E3FC;\n",
              "    }\n",
              "\n",
              "    [theme=dark] .colab-df-convert:hover {\n",
              "      background-color: #434B5C;\n",
              "      box-shadow: 0px 1px 3px 1px rgba(0, 0, 0, 0.15);\n",
              "      filter: drop-shadow(0px 1px 2px rgba(0, 0, 0, 0.3));\n",
              "      fill: #FFFFFF;\n",
              "    }\n",
              "  </style>\n",
              "\n",
              "      <script>\n",
              "        const buttonEl =\n",
              "          document.querySelector('#df-72188855-b926-40a6-931c-411840c936d1 button.colab-df-convert');\n",
              "        buttonEl.style.display =\n",
              "          google.colab.kernel.accessAllowed ? 'block' : 'none';\n",
              "\n",
              "        async function convertToInteractive(key) {\n",
              "          const element = document.querySelector('#df-72188855-b926-40a6-931c-411840c936d1');\n",
              "          const dataTable =\n",
              "            await google.colab.kernel.invokeFunction('convertToInteractive',\n",
              "                                                     [key], {});\n",
              "          if (!dataTable) return;\n",
              "\n",
              "          const docLinkHtml = 'Like what you see? Visit the ' +\n",
              "            '<a target=\"_blank\" href=https://colab.research.google.com/notebooks/data_table.ipynb>data table notebook</a>'\n",
              "            + ' to learn more about interactive tables.';\n",
              "          element.innerHTML = '';\n",
              "          dataTable['output_type'] = 'display_data';\n",
              "          await google.colab.output.renderOutput(dataTable, element);\n",
              "          const docLink = document.createElement('div');\n",
              "          docLink.innerHTML = docLinkHtml;\n",
              "          element.appendChild(docLink);\n",
              "        }\n",
              "      </script>\n",
              "    </div>\n",
              "  </div>\n",
              "  "
            ]
          },
          "metadata": {},
          "execution_count": 110
        }
      ]
    },
    {
      "cell_type": "markdown",
      "source": [
        "### Valor Empréstimo"
      ],
      "metadata": {
        "id": "9Q07IyNx8Etw"
      }
    },
    {
      "cell_type": "code",
      "source": [
        "dados6[\"valor_emprestimo\"].max()"
      ],
      "metadata": {
        "colab": {
          "base_uri": "https://localhost:8080/"
        },
        "id": "WBDrUc-m7wZS",
        "outputId": "543cca83-218d-4624-919e-b27c938bb095"
      },
      "execution_count": 111,
      "outputs": [
        {
          "output_type": "execute_result",
          "data": {
            "text/plain": [
              "35000.0"
            ]
          },
          "metadata": {},
          "execution_count": 111
        }
      ]
    },
    {
      "cell_type": "code",
      "source": [
        "dados6[\"valor_emprestimo\"].min()"
      ],
      "metadata": {
        "colab": {
          "base_uri": "https://localhost:8080/"
        },
        "id": "VdYCJrr_8fas",
        "outputId": "0d126b1d-592d-48d1-f705-d513ba147602"
      },
      "execution_count": 112,
      "outputs": [
        {
          "output_type": "execute_result",
          "data": {
            "text/plain": [
              "500.0"
            ]
          },
          "metadata": {},
          "execution_count": 112
        }
      ]
    },
    {
      "cell_type": "markdown",
      "source": [
        "Arbitrariamente, vou dividir o valor do emprestimo em 35 categorias, de mil em mil para melhorar a performance do modelo de machine learning."
      ],
      "metadata": {
        "id": "YgHG9lWy8JZb"
      }
    },
    {
      "cell_type": "code",
      "source": [
        "# from sklearn.compose import make_column_transformer\n",
        "# from sklearn.preprocessing import OneHotEncoder\n",
        "\n",
        "# colunas_categoricas = [\"motivo_emprestimo\"]\n",
        "\n",
        "# one_hot_enc = make_column_transformer(\n",
        "#     (OneHotEncoder(handle_unknown = 'ignore'),\n",
        "#     colunas_categoricas),\n",
        "#     remainder='passthrough')\n",
        "\n",
        "# dados5 = one_hot_enc.fit_transform(dados4)\n",
        "# dados5 = pd.DataFrame(dados5, columns=one_hot_enc.get_feature_names_out())\n",
        "# dados5.head()"
      ],
      "metadata": {
        "id": "7eTLOpOG5vbL"
      },
      "execution_count": 113,
      "outputs": []
    },
    {
      "cell_type": "code",
      "source": [
        "dados6['valor_emprestimo'] = pd.cut(x = dados6['valor_emprestimo'], bins=np.arange(0, 36000, 1000), \n",
        "                                         labels = np.arange(1, 36))"
      ],
      "metadata": {
        "id": "vXzw-xNt8Wrb"
      },
      "execution_count": 114,
      "outputs": []
    },
    {
      "cell_type": "code",
      "source": [
        "dados6['valor_emprestimo'].value_counts()"
      ],
      "metadata": {
        "colab": {
          "base_uri": "https://localhost:8080/"
        },
        "id": "R34fc5Zg9eIZ",
        "outputId": "da740987-f70f-4e57-b0c4-8874368fa26b"
      },
      "execution_count": 115,
      "outputs": [
        {
          "output_type": "execute_result",
          "data": {
            "text/plain": [
              "10    2944\n",
              "5     2849\n",
              "6     2405\n",
              "8     2355\n",
              "4     1929\n",
              "12    1916\n",
              "3     1871\n",
              "7     1709\n",
              "15    1627\n",
              "2     1259\n",
              "9     1196\n",
              "20     987\n",
              "25     849\n",
              "14     661\n",
              "11     636\n",
              "13     590\n",
              "16     567\n",
              "18     508\n",
              "17     278\n",
              "24     276\n",
              "1      274\n",
              "21     179\n",
              "35     158\n",
              "19     155\n",
              "22     153\n",
              "30     100\n",
              "23      73\n",
              "28      70\n",
              "26      18\n",
              "32      15\n",
              "34       7\n",
              "27       6\n",
              "33       6\n",
              "29       5\n",
              "31       3\n",
              "Name: valor_emprestimo, dtype: int64"
            ]
          },
          "metadata": {},
          "execution_count": 115
        }
      ]
    },
    {
      "cell_type": "markdown",
      "source": [
        "###Taxa de Juros"
      ],
      "metadata": {
        "id": "qYi-jmZD92MJ"
      }
    },
    {
      "cell_type": "code",
      "source": [
        "dados6['taxa_juros_emprestimo'].max()"
      ],
      "metadata": {
        "colab": {
          "base_uri": "https://localhost:8080/"
        },
        "id": "Aij4ceoI9rQa",
        "outputId": "a5b74573-0a77-41f8-8cd6-9304138abdab"
      },
      "execution_count": 116,
      "outputs": [
        {
          "output_type": "execute_result",
          "data": {
            "text/plain": [
              "23.22"
            ]
          },
          "metadata": {},
          "execution_count": 116
        }
      ]
    },
    {
      "cell_type": "code",
      "source": [
        "dados6['taxa_juros_emprestimo'].min()"
      ],
      "metadata": {
        "colab": {
          "base_uri": "https://localhost:8080/"
        },
        "id": "yomajME9-VGJ",
        "outputId": "b30981ff-1769-4551-d4db-54ff129168cf"
      },
      "execution_count": 117,
      "outputs": [
        {
          "output_type": "execute_result",
          "data": {
            "text/plain": [
              "5.42"
            ]
          },
          "metadata": {},
          "execution_count": 117
        }
      ]
    },
    {
      "cell_type": "markdown",
      "source": [
        "O mínimo de taxa que a instituição financeira cobra é de 5,42% de juros, chegando a 23,22%. Por enquanto, irei manter a coluna do jeito que está."
      ],
      "metadata": {
        "id": "Z0BiSpPX-c7o"
      }
    },
    {
      "cell_type": "markdown",
      "source": [
        "###Possibilidade de Inadimplência"
      ],
      "metadata": {
        "id": "qycoKcTQAGd1"
      }
    },
    {
      "cell_type": "code",
      "source": [
        "dados6[\"status_emprestimo\"].value_counts()"
      ],
      "metadata": {
        "colab": {
          "base_uri": "https://localhost:8080/"
        },
        "id": "KfGDrXyb-Ybq",
        "outputId": "8a3eef18-3706-4bbd-93ca-19da343140db"
      },
      "execution_count": 119,
      "outputs": [
        {
          "output_type": "execute_result",
          "data": {
            "text/plain": [
              "0.0    22431\n",
              "1.0     6203\n",
              "Name: status_emprestimo, dtype: int64"
            ]
          },
          "metadata": {},
          "execution_count": 119
        }
      ]
    },
    {
      "cell_type": "markdown",
      "source": [
        "Como podemos ver, nossa coluna alvo está desbalanceada, então temos que prestar muita atenção nas métricas para avaliar o modelo a ser implementado da melhor forma possível."
      ],
      "metadata": {
        "id": "_pq5Clv7DKH3"
      }
    },
    {
      "cell_type": "markdown",
      "source": [
        "### Razão Salário / Empréstimo"
      ],
      "metadata": {
        "id": "qVIXdTiyD3oM"
      }
    },
    {
      "cell_type": "code",
      "source": [
        "dados6[\"porcentagem_salario_emprestimo\"].min()"
      ],
      "metadata": {
        "colab": {
          "base_uri": "https://localhost:8080/"
        },
        "id": "bfc5ge6vD9u9",
        "outputId": "ea802d3f-20e8-47e6-e555-16a0871bcb46"
      },
      "execution_count": 122,
      "outputs": [
        {
          "output_type": "execute_result",
          "data": {
            "text/plain": [
              "0.0"
            ]
          },
          "metadata": {},
          "execution_count": 122
        }
      ]
    },
    {
      "cell_type": "code",
      "source": [
        "dados.loc[dados[\"porcentagem_salario_emprestimo\"] == 0]"
      ],
      "metadata": {
        "colab": {
          "base_uri": "https://localhost:8080/",
          "height": 382
        },
        "id": "h-6bX-u-EHer",
        "outputId": "a2b1e103-4c54-46ad-c9d1-08655f808ec0"
      },
      "execution_count": 126,
      "outputs": [
        {
          "output_type": "execute_result",
          "data": {
            "text/plain": [
              "       idade_pessoa  salario_pessoa situacao_propriedade_pessoa  \\\n",
              "2098           43.0        780000.0                    Hipoteca   \n",
              "13766         144.0       6000000.0                    Hipoteca   \n",
              "16869          35.0        510000.0                     Aluguel   \n",
              "18199          30.0        522000.0                    Hipoteca   \n",
              "25431          34.0        948000.0                    Hipoteca   \n",
              "27621          42.0       2039784.0                     Aluguel   \n",
              "32640          47.0       1362000.0                    Hipoteca   \n",
              "34376          44.0       1440000.0                    Hipoteca   \n",
              "\n",
              "       tempo_trabalhado_pessoa     motivo_emprestimo pontuacao_emprestimo  \\\n",
              "2098                       2.0        Melhora do lar                    A   \n",
              "13766                     12.0              Personal                    C   \n",
              "16869                      1.0              Personal                    C   \n",
              "18199                     11.0        Melhora do lar                    A   \n",
              "25431                     18.0              Personal                    B   \n",
              "27621                      0.0        Empreendimento                    C   \n",
              "32640                      9.0        Empreendimento                    A   \n",
              "34376                      7.0  Pagamento de débitos                    A   \n",
              "\n",
              "       valor_emprestimo  taxa_juros_emprestimo  status_emprestimo  \\\n",
              "2098             1000.0                   8.94                0.0   \n",
              "13766            5000.0                  12.73                0.0   \n",
              "16869            1800.0                  13.48                0.0   \n",
              "18199            2500.0                   7.43                0.0   \n",
              "25431            2000.0                   9.99                0.0   \n",
              "27621            8450.0                  12.29                0.0   \n",
              "32640            6600.0                   7.74                0.0   \n",
              "34376            6400.0                   7.40                0.0   \n",
              "\n",
              "       porcentagem_salario_emprestimo foi_inadimplente_cb  \\\n",
              "2098                              0.0                   N   \n",
              "13766                             0.0                   N   \n",
              "16869                             0.0                   N   \n",
              "18199                             0.0                   N   \n",
              "25431                             0.0                   N   \n",
              "27621                             0.0                   S   \n",
              "32640                             0.0                   N   \n",
              "34376                             0.0                   N   \n",
              "\n",
              "       tempo_primeira_solicitacao_credito_cb  \n",
              "2098                                      11  \n",
              "13766                                     25  \n",
              "16869                                      6  \n",
              "18199                                      9  \n",
              "25431                                      7  \n",
              "27621                                     15  \n",
              "32640                                     17  \n",
              "34376                                     15  "
            ],
            "text/html": [
              "\n",
              "  <div id=\"df-cee3a827-ac01-4507-8e40-f6b2b4a8a69e\">\n",
              "    <div class=\"colab-df-container\">\n",
              "      <div>\n",
              "<style scoped>\n",
              "    .dataframe tbody tr th:only-of-type {\n",
              "        vertical-align: middle;\n",
              "    }\n",
              "\n",
              "    .dataframe tbody tr th {\n",
              "        vertical-align: top;\n",
              "    }\n",
              "\n",
              "    .dataframe thead th {\n",
              "        text-align: right;\n",
              "    }\n",
              "</style>\n",
              "<table border=\"1\" class=\"dataframe\">\n",
              "  <thead>\n",
              "    <tr style=\"text-align: right;\">\n",
              "      <th></th>\n",
              "      <th>idade_pessoa</th>\n",
              "      <th>salario_pessoa</th>\n",
              "      <th>situacao_propriedade_pessoa</th>\n",
              "      <th>tempo_trabalhado_pessoa</th>\n",
              "      <th>motivo_emprestimo</th>\n",
              "      <th>pontuacao_emprestimo</th>\n",
              "      <th>valor_emprestimo</th>\n",
              "      <th>taxa_juros_emprestimo</th>\n",
              "      <th>status_emprestimo</th>\n",
              "      <th>porcentagem_salario_emprestimo</th>\n",
              "      <th>foi_inadimplente_cb</th>\n",
              "      <th>tempo_primeira_solicitacao_credito_cb</th>\n",
              "    </tr>\n",
              "  </thead>\n",
              "  <tbody>\n",
              "    <tr>\n",
              "      <th>2098</th>\n",
              "      <td>43.0</td>\n",
              "      <td>780000.0</td>\n",
              "      <td>Hipoteca</td>\n",
              "      <td>2.0</td>\n",
              "      <td>Melhora do lar</td>\n",
              "      <td>A</td>\n",
              "      <td>1000.0</td>\n",
              "      <td>8.94</td>\n",
              "      <td>0.0</td>\n",
              "      <td>0.0</td>\n",
              "      <td>N</td>\n",
              "      <td>11</td>\n",
              "    </tr>\n",
              "    <tr>\n",
              "      <th>13766</th>\n",
              "      <td>144.0</td>\n",
              "      <td>6000000.0</td>\n",
              "      <td>Hipoteca</td>\n",
              "      <td>12.0</td>\n",
              "      <td>Personal</td>\n",
              "      <td>C</td>\n",
              "      <td>5000.0</td>\n",
              "      <td>12.73</td>\n",
              "      <td>0.0</td>\n",
              "      <td>0.0</td>\n",
              "      <td>N</td>\n",
              "      <td>25</td>\n",
              "    </tr>\n",
              "    <tr>\n",
              "      <th>16869</th>\n",
              "      <td>35.0</td>\n",
              "      <td>510000.0</td>\n",
              "      <td>Aluguel</td>\n",
              "      <td>1.0</td>\n",
              "      <td>Personal</td>\n",
              "      <td>C</td>\n",
              "      <td>1800.0</td>\n",
              "      <td>13.48</td>\n",
              "      <td>0.0</td>\n",
              "      <td>0.0</td>\n",
              "      <td>N</td>\n",
              "      <td>6</td>\n",
              "    </tr>\n",
              "    <tr>\n",
              "      <th>18199</th>\n",
              "      <td>30.0</td>\n",
              "      <td>522000.0</td>\n",
              "      <td>Hipoteca</td>\n",
              "      <td>11.0</td>\n",
              "      <td>Melhora do lar</td>\n",
              "      <td>A</td>\n",
              "      <td>2500.0</td>\n",
              "      <td>7.43</td>\n",
              "      <td>0.0</td>\n",
              "      <td>0.0</td>\n",
              "      <td>N</td>\n",
              "      <td>9</td>\n",
              "    </tr>\n",
              "    <tr>\n",
              "      <th>25431</th>\n",
              "      <td>34.0</td>\n",
              "      <td>948000.0</td>\n",
              "      <td>Hipoteca</td>\n",
              "      <td>18.0</td>\n",
              "      <td>Personal</td>\n",
              "      <td>B</td>\n",
              "      <td>2000.0</td>\n",
              "      <td>9.99</td>\n",
              "      <td>0.0</td>\n",
              "      <td>0.0</td>\n",
              "      <td>N</td>\n",
              "      <td>7</td>\n",
              "    </tr>\n",
              "    <tr>\n",
              "      <th>27621</th>\n",
              "      <td>42.0</td>\n",
              "      <td>2039784.0</td>\n",
              "      <td>Aluguel</td>\n",
              "      <td>0.0</td>\n",
              "      <td>Empreendimento</td>\n",
              "      <td>C</td>\n",
              "      <td>8450.0</td>\n",
              "      <td>12.29</td>\n",
              "      <td>0.0</td>\n",
              "      <td>0.0</td>\n",
              "      <td>S</td>\n",
              "      <td>15</td>\n",
              "    </tr>\n",
              "    <tr>\n",
              "      <th>32640</th>\n",
              "      <td>47.0</td>\n",
              "      <td>1362000.0</td>\n",
              "      <td>Hipoteca</td>\n",
              "      <td>9.0</td>\n",
              "      <td>Empreendimento</td>\n",
              "      <td>A</td>\n",
              "      <td>6600.0</td>\n",
              "      <td>7.74</td>\n",
              "      <td>0.0</td>\n",
              "      <td>0.0</td>\n",
              "      <td>N</td>\n",
              "      <td>17</td>\n",
              "    </tr>\n",
              "    <tr>\n",
              "      <th>34376</th>\n",
              "      <td>44.0</td>\n",
              "      <td>1440000.0</td>\n",
              "      <td>Hipoteca</td>\n",
              "      <td>7.0</td>\n",
              "      <td>Pagamento de débitos</td>\n",
              "      <td>A</td>\n",
              "      <td>6400.0</td>\n",
              "      <td>7.40</td>\n",
              "      <td>0.0</td>\n",
              "      <td>0.0</td>\n",
              "      <td>N</td>\n",
              "      <td>15</td>\n",
              "    </tr>\n",
              "  </tbody>\n",
              "</table>\n",
              "</div>\n",
              "      <button class=\"colab-df-convert\" onclick=\"convertToInteractive('df-cee3a827-ac01-4507-8e40-f6b2b4a8a69e')\"\n",
              "              title=\"Convert this dataframe to an interactive table.\"\n",
              "              style=\"display:none;\">\n",
              "        \n",
              "  <svg xmlns=\"http://www.w3.org/2000/svg\" height=\"24px\"viewBox=\"0 0 24 24\"\n",
              "       width=\"24px\">\n",
              "    <path d=\"M0 0h24v24H0V0z\" fill=\"none\"/>\n",
              "    <path d=\"M18.56 5.44l.94 2.06.94-2.06 2.06-.94-2.06-.94-.94-2.06-.94 2.06-2.06.94zm-11 1L8.5 8.5l.94-2.06 2.06-.94-2.06-.94L8.5 2.5l-.94 2.06-2.06.94zm10 10l.94 2.06.94-2.06 2.06-.94-2.06-.94-.94-2.06-.94 2.06-2.06.94z\"/><path d=\"M17.41 7.96l-1.37-1.37c-.4-.4-.92-.59-1.43-.59-.52 0-1.04.2-1.43.59L10.3 9.45l-7.72 7.72c-.78.78-.78 2.05 0 2.83L4 21.41c.39.39.9.59 1.41.59.51 0 1.02-.2 1.41-.59l7.78-7.78 2.81-2.81c.8-.78.8-2.07 0-2.86zM5.41 20L4 18.59l7.72-7.72 1.47 1.35L5.41 20z\"/>\n",
              "  </svg>\n",
              "      </button>\n",
              "      \n",
              "  <style>\n",
              "    .colab-df-container {\n",
              "      display:flex;\n",
              "      flex-wrap:wrap;\n",
              "      gap: 12px;\n",
              "    }\n",
              "\n",
              "    .colab-df-convert {\n",
              "      background-color: #E8F0FE;\n",
              "      border: none;\n",
              "      border-radius: 50%;\n",
              "      cursor: pointer;\n",
              "      display: none;\n",
              "      fill: #1967D2;\n",
              "      height: 32px;\n",
              "      padding: 0 0 0 0;\n",
              "      width: 32px;\n",
              "    }\n",
              "\n",
              "    .colab-df-convert:hover {\n",
              "      background-color: #E2EBFA;\n",
              "      box-shadow: 0px 1px 2px rgba(60, 64, 67, 0.3), 0px 1px 3px 1px rgba(60, 64, 67, 0.15);\n",
              "      fill: #174EA6;\n",
              "    }\n",
              "\n",
              "    [theme=dark] .colab-df-convert {\n",
              "      background-color: #3B4455;\n",
              "      fill: #D2E3FC;\n",
              "    }\n",
              "\n",
              "    [theme=dark] .colab-df-convert:hover {\n",
              "      background-color: #434B5C;\n",
              "      box-shadow: 0px 1px 3px 1px rgba(0, 0, 0, 0.15);\n",
              "      filter: drop-shadow(0px 1px 2px rgba(0, 0, 0, 0.3));\n",
              "      fill: #FFFFFF;\n",
              "    }\n",
              "  </style>\n",
              "\n",
              "      <script>\n",
              "        const buttonEl =\n",
              "          document.querySelector('#df-cee3a827-ac01-4507-8e40-f6b2b4a8a69e button.colab-df-convert');\n",
              "        buttonEl.style.display =\n",
              "          google.colab.kernel.accessAllowed ? 'block' : 'none';\n",
              "\n",
              "        async function convertToInteractive(key) {\n",
              "          const element = document.querySelector('#df-cee3a827-ac01-4507-8e40-f6b2b4a8a69e');\n",
              "          const dataTable =\n",
              "            await google.colab.kernel.invokeFunction('convertToInteractive',\n",
              "                                                     [key], {});\n",
              "          if (!dataTable) return;\n",
              "\n",
              "          const docLinkHtml = 'Like what you see? Visit the ' +\n",
              "            '<a target=\"_blank\" href=https://colab.research.google.com/notebooks/data_table.ipynb>data table notebook</a>'\n",
              "            + ' to learn more about interactive tables.';\n",
              "          element.innerHTML = '';\n",
              "          dataTable['output_type'] = 'display_data';\n",
              "          await google.colab.output.renderOutput(dataTable, element);\n",
              "          const docLink = document.createElement('div');\n",
              "          docLink.innerHTML = docLinkHtml;\n",
              "          element.appendChild(docLink);\n",
              "        }\n",
              "      </script>\n",
              "    </div>\n",
              "  </div>\n",
              "  "
            ]
          },
          "metadata": {},
          "execution_count": 126
        }
      ]
    },
    {
      "cell_type": "markdown",
      "source": [
        "Existem alguns clientes com a razão entre o slário e o empréstimo igual a 0, isso está ocorrendo devido aos clientes com um salário muito alto estarem pedindo empréstimos com valor baixo, então sem problemas aqui"
      ],
      "metadata": {
        "id": "r0x8djrfEq_2"
      }
    },
    {
      "cell_type": "code",
      "source": [
        "dados6[\"porcentagem_salario_emprestimo\"].max()"
      ],
      "metadata": {
        "colab": {
          "base_uri": "https://localhost:8080/"
        },
        "id": "WlbGtPmSE7oU",
        "outputId": "12ba9ec7-51e5-440f-91d6-05afffdc7fe5"
      },
      "execution_count": 127,
      "outputs": [
        {
          "output_type": "execute_result",
          "data": {
            "text/plain": [
              "0.83"
            ]
          },
          "metadata": {},
          "execution_count": 127
        }
      ]
    },
    {
      "cell_type": "markdown",
      "source": [
        "## Histórico de bancos cliente"
      ],
      "metadata": {
        "id": "SZ3XabkwDdK3"
      }
    },
    {
      "cell_type": "markdown",
      "source": [
        "###Foi inadimplente"
      ],
      "metadata": {
        "id": "uh_SFkAlFDTT"
      }
    },
    {
      "cell_type": "code",
      "source": [
        "dados6[\"foi_inadimplente_cb\"].value_counts()"
      ],
      "metadata": {
        "colab": {
          "base_uri": "https://localhost:8080/"
        },
        "id": "Sxmfy-DTAMsZ",
        "outputId": "3d0b28f4-e5f6-4074-9d25-e16a5d07e78c"
      },
      "execution_count": 128,
      "outputs": [
        {
          "output_type": "execute_result",
          "data": {
            "text/plain": [
              "N    23531\n",
              "S     5103\n",
              "Name: foi_inadimplente_cb, dtype: int64"
            ]
          },
          "metadata": {},
          "execution_count": 128
        }
      ]
    },
    {
      "cell_type": "markdown",
      "source": [
        "Assim como a coluna alvo, a maioria dos clientes não foram inadimplentes. Precisamos trocar para 0 e 1."
      ],
      "metadata": {
        "id": "8do0GaU7FHjq"
      }
    },
    {
      "cell_type": "code",
      "source": [
        "troca = {\n",
        "    \"N\" : 0,\n",
        "    \"S\" : 1\n",
        "}\n",
        "dados7 = dados6.copy()\n",
        "dados7[\"foi_inadimplente_cb\"] = dados7[\"foi_inadimplente_cb\"].map(troca)\n",
        "dados7.head()"
      ],
      "metadata": {
        "colab": {
          "base_uri": "https://localhost:8080/",
          "height": 270
        },
        "id": "TF5K6QDKFFua",
        "outputId": "0cd21f31-4bf2-4f64-bb36-1f56452fd872"
      },
      "execution_count": 131,
      "outputs": [
        {
          "output_type": "execute_result",
          "data": {
            "text/plain": [
              "  idade_pessoa salario_pessoa  situacao_propriedade_pessoa  \\\n",
              "0            1              2                            1   \n",
              "1            2              2                            1   \n",
              "2            2              2                            3   \n",
              "3            2              2                            1   \n",
              "4            1              2                            1   \n",
              "\n",
              "   tempo_trabalhado_pessoa  motivo_emprestimo  pontuacao_emprestimo  \\\n",
              "0                      3.0                  5                     1   \n",
              "1                      2.0                  2                     1   \n",
              "2                     11.0                  1                     2   \n",
              "3                      2.0                  1                     1   \n",
              "4                      0.0                  5                     4   \n",
              "\n",
              "  valor_emprestimo  taxa_juros_emprestimo  status_emprestimo  \\\n",
              "0                7                   6.99                0.0   \n",
              "1                7                   7.88                0.0   \n",
              "2               15                  12.18                0.0   \n",
              "3                4                   8.94                0.0   \n",
              "4               15                  14.83                1.0   \n",
              "\n",
              "   porcentagem_salario_emprestimo  foi_inadimplente_cb  \\\n",
              "0                            0.12                    0   \n",
              "1                            0.16                    0   \n",
              "2                            0.18                    0   \n",
              "3                            0.10                    0   \n",
              "4                            0.27                    1   \n",
              "\n",
              "   tempo_primeira_solicitacao_credito_cb  \n",
              "0                                      3  \n",
              "1                                      8  \n",
              "2                                     10  \n",
              "3                                     10  \n",
              "4                                      4  "
            ],
            "text/html": [
              "\n",
              "  <div id=\"df-081a55fd-0e42-4b55-a736-68472ada37f5\">\n",
              "    <div class=\"colab-df-container\">\n",
              "      <div>\n",
              "<style scoped>\n",
              "    .dataframe tbody tr th:only-of-type {\n",
              "        vertical-align: middle;\n",
              "    }\n",
              "\n",
              "    .dataframe tbody tr th {\n",
              "        vertical-align: top;\n",
              "    }\n",
              "\n",
              "    .dataframe thead th {\n",
              "        text-align: right;\n",
              "    }\n",
              "</style>\n",
              "<table border=\"1\" class=\"dataframe\">\n",
              "  <thead>\n",
              "    <tr style=\"text-align: right;\">\n",
              "      <th></th>\n",
              "      <th>idade_pessoa</th>\n",
              "      <th>salario_pessoa</th>\n",
              "      <th>situacao_propriedade_pessoa</th>\n",
              "      <th>tempo_trabalhado_pessoa</th>\n",
              "      <th>motivo_emprestimo</th>\n",
              "      <th>pontuacao_emprestimo</th>\n",
              "      <th>valor_emprestimo</th>\n",
              "      <th>taxa_juros_emprestimo</th>\n",
              "      <th>status_emprestimo</th>\n",
              "      <th>porcentagem_salario_emprestimo</th>\n",
              "      <th>foi_inadimplente_cb</th>\n",
              "      <th>tempo_primeira_solicitacao_credito_cb</th>\n",
              "    </tr>\n",
              "  </thead>\n",
              "  <tbody>\n",
              "    <tr>\n",
              "      <th>0</th>\n",
              "      <td>1</td>\n",
              "      <td>2</td>\n",
              "      <td>1</td>\n",
              "      <td>3.0</td>\n",
              "      <td>5</td>\n",
              "      <td>1</td>\n",
              "      <td>7</td>\n",
              "      <td>6.99</td>\n",
              "      <td>0.0</td>\n",
              "      <td>0.12</td>\n",
              "      <td>0</td>\n",
              "      <td>3</td>\n",
              "    </tr>\n",
              "    <tr>\n",
              "      <th>1</th>\n",
              "      <td>2</td>\n",
              "      <td>2</td>\n",
              "      <td>1</td>\n",
              "      <td>2.0</td>\n",
              "      <td>2</td>\n",
              "      <td>1</td>\n",
              "      <td>7</td>\n",
              "      <td>7.88</td>\n",
              "      <td>0.0</td>\n",
              "      <td>0.16</td>\n",
              "      <td>0</td>\n",
              "      <td>8</td>\n",
              "    </tr>\n",
              "    <tr>\n",
              "      <th>2</th>\n",
              "      <td>2</td>\n",
              "      <td>2</td>\n",
              "      <td>3</td>\n",
              "      <td>11.0</td>\n",
              "      <td>1</td>\n",
              "      <td>2</td>\n",
              "      <td>15</td>\n",
              "      <td>12.18</td>\n",
              "      <td>0.0</td>\n",
              "      <td>0.18</td>\n",
              "      <td>0</td>\n",
              "      <td>10</td>\n",
              "    </tr>\n",
              "    <tr>\n",
              "      <th>3</th>\n",
              "      <td>2</td>\n",
              "      <td>2</td>\n",
              "      <td>1</td>\n",
              "      <td>2.0</td>\n",
              "      <td>1</td>\n",
              "      <td>1</td>\n",
              "      <td>4</td>\n",
              "      <td>8.94</td>\n",
              "      <td>0.0</td>\n",
              "      <td>0.10</td>\n",
              "      <td>0</td>\n",
              "      <td>10</td>\n",
              "    </tr>\n",
              "    <tr>\n",
              "      <th>4</th>\n",
              "      <td>1</td>\n",
              "      <td>2</td>\n",
              "      <td>1</td>\n",
              "      <td>0.0</td>\n",
              "      <td>5</td>\n",
              "      <td>4</td>\n",
              "      <td>15</td>\n",
              "      <td>14.83</td>\n",
              "      <td>1.0</td>\n",
              "      <td>0.27</td>\n",
              "      <td>1</td>\n",
              "      <td>4</td>\n",
              "    </tr>\n",
              "  </tbody>\n",
              "</table>\n",
              "</div>\n",
              "      <button class=\"colab-df-convert\" onclick=\"convertToInteractive('df-081a55fd-0e42-4b55-a736-68472ada37f5')\"\n",
              "              title=\"Convert this dataframe to an interactive table.\"\n",
              "              style=\"display:none;\">\n",
              "        \n",
              "  <svg xmlns=\"http://www.w3.org/2000/svg\" height=\"24px\"viewBox=\"0 0 24 24\"\n",
              "       width=\"24px\">\n",
              "    <path d=\"M0 0h24v24H0V0z\" fill=\"none\"/>\n",
              "    <path d=\"M18.56 5.44l.94 2.06.94-2.06 2.06-.94-2.06-.94-.94-2.06-.94 2.06-2.06.94zm-11 1L8.5 8.5l.94-2.06 2.06-.94-2.06-.94L8.5 2.5l-.94 2.06-2.06.94zm10 10l.94 2.06.94-2.06 2.06-.94-2.06-.94-.94-2.06-.94 2.06-2.06.94z\"/><path d=\"M17.41 7.96l-1.37-1.37c-.4-.4-.92-.59-1.43-.59-.52 0-1.04.2-1.43.59L10.3 9.45l-7.72 7.72c-.78.78-.78 2.05 0 2.83L4 21.41c.39.39.9.59 1.41.59.51 0 1.02-.2 1.41-.59l7.78-7.78 2.81-2.81c.8-.78.8-2.07 0-2.86zM5.41 20L4 18.59l7.72-7.72 1.47 1.35L5.41 20z\"/>\n",
              "  </svg>\n",
              "      </button>\n",
              "      \n",
              "  <style>\n",
              "    .colab-df-container {\n",
              "      display:flex;\n",
              "      flex-wrap:wrap;\n",
              "      gap: 12px;\n",
              "    }\n",
              "\n",
              "    .colab-df-convert {\n",
              "      background-color: #E8F0FE;\n",
              "      border: none;\n",
              "      border-radius: 50%;\n",
              "      cursor: pointer;\n",
              "      display: none;\n",
              "      fill: #1967D2;\n",
              "      height: 32px;\n",
              "      padding: 0 0 0 0;\n",
              "      width: 32px;\n",
              "    }\n",
              "\n",
              "    .colab-df-convert:hover {\n",
              "      background-color: #E2EBFA;\n",
              "      box-shadow: 0px 1px 2px rgba(60, 64, 67, 0.3), 0px 1px 3px 1px rgba(60, 64, 67, 0.15);\n",
              "      fill: #174EA6;\n",
              "    }\n",
              "\n",
              "    [theme=dark] .colab-df-convert {\n",
              "      background-color: #3B4455;\n",
              "      fill: #D2E3FC;\n",
              "    }\n",
              "\n",
              "    [theme=dark] .colab-df-convert:hover {\n",
              "      background-color: #434B5C;\n",
              "      box-shadow: 0px 1px 3px 1px rgba(0, 0, 0, 0.15);\n",
              "      filter: drop-shadow(0px 1px 2px rgba(0, 0, 0, 0.3));\n",
              "      fill: #FFFFFF;\n",
              "    }\n",
              "  </style>\n",
              "\n",
              "      <script>\n",
              "        const buttonEl =\n",
              "          document.querySelector('#df-081a55fd-0e42-4b55-a736-68472ada37f5 button.colab-df-convert');\n",
              "        buttonEl.style.display =\n",
              "          google.colab.kernel.accessAllowed ? 'block' : 'none';\n",
              "\n",
              "        async function convertToInteractive(key) {\n",
              "          const element = document.querySelector('#df-081a55fd-0e42-4b55-a736-68472ada37f5');\n",
              "          const dataTable =\n",
              "            await google.colab.kernel.invokeFunction('convertToInteractive',\n",
              "                                                     [key], {});\n",
              "          if (!dataTable) return;\n",
              "\n",
              "          const docLinkHtml = 'Like what you see? Visit the ' +\n",
              "            '<a target=\"_blank\" href=https://colab.research.google.com/notebooks/data_table.ipynb>data table notebook</a>'\n",
              "            + ' to learn more about interactive tables.';\n",
              "          element.innerHTML = '';\n",
              "          dataTable['output_type'] = 'display_data';\n",
              "          await google.colab.output.renderOutput(dataTable, element);\n",
              "          const docLink = document.createElement('div');\n",
              "          docLink.innerHTML = docLinkHtml;\n",
              "          element.appendChild(docLink);\n",
              "        }\n",
              "      </script>\n",
              "    </div>\n",
              "  </div>\n",
              "  "
            ]
          },
          "metadata": {},
          "execution_count": 131
        }
      ]
    },
    {
      "cell_type": "markdown",
      "source": [
        "###Tempo desde a primeira solicitação de crédito"
      ],
      "metadata": {
        "id": "H_ZmIFUXFvC5"
      }
    },
    {
      "cell_type": "code",
      "source": [
        "dados7[\"tempo_primeira_solicitacao_credito_cb\"].min()"
      ],
      "metadata": {
        "colab": {
          "base_uri": "https://localhost:8080/"
        },
        "id": "6Op5_APyFVaY",
        "outputId": "ccb82657-1b49-478a-c970-4bdb611cd6e2"
      },
      "execution_count": 132,
      "outputs": [
        {
          "output_type": "execute_result",
          "data": {
            "text/plain": [
              "2"
            ]
          },
          "metadata": {},
          "execution_count": 132
        }
      ]
    },
    {
      "cell_type": "code",
      "source": [
        "dados7[\"tempo_primeira_solicitacao_credito_cb\"].max()"
      ],
      "metadata": {
        "colab": {
          "base_uri": "https://localhost:8080/"
        },
        "id": "A7oSSzoNF1c6",
        "outputId": "19495292-c5e7-4938-9b1e-b7c8165f3248"
      },
      "execution_count": 133,
      "outputs": [
        {
          "output_type": "execute_result",
          "data": {
            "text/plain": [
              "30"
            ]
          },
          "metadata": {},
          "execution_count": 133
        }
      ]
    },
    {
      "cell_type": "markdown",
      "source": [
        "O tempo, em anos, que os clientes fizeram uma solicitação de crédito ou adquiriram um cartão de crédito foram entre 2 e 30 anos. Irei dividir tudo por 10 para diminuir a escala."
      ],
      "metadata": {
        "id": "VxeUO-OaGC70"
      }
    },
    {
      "cell_type": "code",
      "source": [
        "dados8 = dados7.copy()\n",
        "dados8[\"tempo_primeira_solicitacao_credito_cb\"] = dados8[\"tempo_primeira_solicitacao_credito_cb\"]/10\n",
        "dados8[\"tempo_primeira_solicitacao_credito_cb\"].head()"
      ],
      "metadata": {
        "colab": {
          "base_uri": "https://localhost:8080/"
        },
        "id": "YSZRpt_tF3Zq",
        "outputId": "cf6c5607-76d0-4854-e526-cc5eb9b0b585"
      },
      "execution_count": 134,
      "outputs": [
        {
          "output_type": "execute_result",
          "data": {
            "text/plain": [
              "0    0.3\n",
              "1    0.8\n",
              "2    1.0\n",
              "3    1.0\n",
              "4    0.4\n",
              "Name: tempo_primeira_solicitacao_credito_cb, dtype: float64"
            ]
          },
          "metadata": {},
          "execution_count": 134
        }
      ]
    },
    {
      "cell_type": "code",
      "source": [
        " "
      ],
      "metadata": {
        "id": "GQf3VT48Ga1M"
      },
      "execution_count": null,
      "outputs": []
    },
    {
      "cell_type": "markdown",
      "source": [
        "#Machine Learning"
      ],
      "metadata": {
        "id": "j0tWEzisGsYe"
      }
    },
    {
      "cell_type": "markdown",
      "source": [
        "Agora que temos a base de dados tratada, vamos começar a implementar os modelos de Machine Learning"
      ],
      "metadata": {
        "id": "bMS3dEvTG3Zs"
      }
    },
    {
      "cell_type": "code",
      "source": [
        "dados_tratados = dados8.copy()\n",
        "dados_tratados.head()"
      ],
      "metadata": {
        "colab": {
          "base_uri": "https://localhost:8080/",
          "height": 270
        },
        "id": "5NpAwTSeGwUZ",
        "outputId": "7e6a2ef5-4404-4929-8268-c18d26b9e514"
      },
      "execution_count": 136,
      "outputs": [
        {
          "output_type": "execute_result",
          "data": {
            "text/plain": [
              "  idade_pessoa salario_pessoa  situacao_propriedade_pessoa  \\\n",
              "0            1              2                            1   \n",
              "1            2              2                            1   \n",
              "2            2              2                            3   \n",
              "3            2              2                            1   \n",
              "4            1              2                            1   \n",
              "\n",
              "   tempo_trabalhado_pessoa  motivo_emprestimo  pontuacao_emprestimo  \\\n",
              "0                      3.0                  5                     1   \n",
              "1                      2.0                  2                     1   \n",
              "2                     11.0                  1                     2   \n",
              "3                      2.0                  1                     1   \n",
              "4                      0.0                  5                     4   \n",
              "\n",
              "  valor_emprestimo  taxa_juros_emprestimo  status_emprestimo  \\\n",
              "0                7                   6.99                0.0   \n",
              "1                7                   7.88                0.0   \n",
              "2               15                  12.18                0.0   \n",
              "3                4                   8.94                0.0   \n",
              "4               15                  14.83                1.0   \n",
              "\n",
              "   porcentagem_salario_emprestimo  foi_inadimplente_cb  \\\n",
              "0                            0.12                    0   \n",
              "1                            0.16                    0   \n",
              "2                            0.18                    0   \n",
              "3                            0.10                    0   \n",
              "4                            0.27                    1   \n",
              "\n",
              "   tempo_primeira_solicitacao_credito_cb  \n",
              "0                                    0.3  \n",
              "1                                    0.8  \n",
              "2                                    1.0  \n",
              "3                                    1.0  \n",
              "4                                    0.4  "
            ],
            "text/html": [
              "\n",
              "  <div id=\"df-90c991f0-f6d5-4d6e-b785-ac194b6e28f4\">\n",
              "    <div class=\"colab-df-container\">\n",
              "      <div>\n",
              "<style scoped>\n",
              "    .dataframe tbody tr th:only-of-type {\n",
              "        vertical-align: middle;\n",
              "    }\n",
              "\n",
              "    .dataframe tbody tr th {\n",
              "        vertical-align: top;\n",
              "    }\n",
              "\n",
              "    .dataframe thead th {\n",
              "        text-align: right;\n",
              "    }\n",
              "</style>\n",
              "<table border=\"1\" class=\"dataframe\">\n",
              "  <thead>\n",
              "    <tr style=\"text-align: right;\">\n",
              "      <th></th>\n",
              "      <th>idade_pessoa</th>\n",
              "      <th>salario_pessoa</th>\n",
              "      <th>situacao_propriedade_pessoa</th>\n",
              "      <th>tempo_trabalhado_pessoa</th>\n",
              "      <th>motivo_emprestimo</th>\n",
              "      <th>pontuacao_emprestimo</th>\n",
              "      <th>valor_emprestimo</th>\n",
              "      <th>taxa_juros_emprestimo</th>\n",
              "      <th>status_emprestimo</th>\n",
              "      <th>porcentagem_salario_emprestimo</th>\n",
              "      <th>foi_inadimplente_cb</th>\n",
              "      <th>tempo_primeira_solicitacao_credito_cb</th>\n",
              "    </tr>\n",
              "  </thead>\n",
              "  <tbody>\n",
              "    <tr>\n",
              "      <th>0</th>\n",
              "      <td>1</td>\n",
              "      <td>2</td>\n",
              "      <td>1</td>\n",
              "      <td>3.0</td>\n",
              "      <td>5</td>\n",
              "      <td>1</td>\n",
              "      <td>7</td>\n",
              "      <td>6.99</td>\n",
              "      <td>0.0</td>\n",
              "      <td>0.12</td>\n",
              "      <td>0</td>\n",
              "      <td>0.3</td>\n",
              "    </tr>\n",
              "    <tr>\n",
              "      <th>1</th>\n",
              "      <td>2</td>\n",
              "      <td>2</td>\n",
              "      <td>1</td>\n",
              "      <td>2.0</td>\n",
              "      <td>2</td>\n",
              "      <td>1</td>\n",
              "      <td>7</td>\n",
              "      <td>7.88</td>\n",
              "      <td>0.0</td>\n",
              "      <td>0.16</td>\n",
              "      <td>0</td>\n",
              "      <td>0.8</td>\n",
              "    </tr>\n",
              "    <tr>\n",
              "      <th>2</th>\n",
              "      <td>2</td>\n",
              "      <td>2</td>\n",
              "      <td>3</td>\n",
              "      <td>11.0</td>\n",
              "      <td>1</td>\n",
              "      <td>2</td>\n",
              "      <td>15</td>\n",
              "      <td>12.18</td>\n",
              "      <td>0.0</td>\n",
              "      <td>0.18</td>\n",
              "      <td>0</td>\n",
              "      <td>1.0</td>\n",
              "    </tr>\n",
              "    <tr>\n",
              "      <th>3</th>\n",
              "      <td>2</td>\n",
              "      <td>2</td>\n",
              "      <td>1</td>\n",
              "      <td>2.0</td>\n",
              "      <td>1</td>\n",
              "      <td>1</td>\n",
              "      <td>4</td>\n",
              "      <td>8.94</td>\n",
              "      <td>0.0</td>\n",
              "      <td>0.10</td>\n",
              "      <td>0</td>\n",
              "      <td>1.0</td>\n",
              "    </tr>\n",
              "    <tr>\n",
              "      <th>4</th>\n",
              "      <td>1</td>\n",
              "      <td>2</td>\n",
              "      <td>1</td>\n",
              "      <td>0.0</td>\n",
              "      <td>5</td>\n",
              "      <td>4</td>\n",
              "      <td>15</td>\n",
              "      <td>14.83</td>\n",
              "      <td>1.0</td>\n",
              "      <td>0.27</td>\n",
              "      <td>1</td>\n",
              "      <td>0.4</td>\n",
              "    </tr>\n",
              "  </tbody>\n",
              "</table>\n",
              "</div>\n",
              "      <button class=\"colab-df-convert\" onclick=\"convertToInteractive('df-90c991f0-f6d5-4d6e-b785-ac194b6e28f4')\"\n",
              "              title=\"Convert this dataframe to an interactive table.\"\n",
              "              style=\"display:none;\">\n",
              "        \n",
              "  <svg xmlns=\"http://www.w3.org/2000/svg\" height=\"24px\"viewBox=\"0 0 24 24\"\n",
              "       width=\"24px\">\n",
              "    <path d=\"M0 0h24v24H0V0z\" fill=\"none\"/>\n",
              "    <path d=\"M18.56 5.44l.94 2.06.94-2.06 2.06-.94-2.06-.94-.94-2.06-.94 2.06-2.06.94zm-11 1L8.5 8.5l.94-2.06 2.06-.94-2.06-.94L8.5 2.5l-.94 2.06-2.06.94zm10 10l.94 2.06.94-2.06 2.06-.94-2.06-.94-.94-2.06-.94 2.06-2.06.94z\"/><path d=\"M17.41 7.96l-1.37-1.37c-.4-.4-.92-.59-1.43-.59-.52 0-1.04.2-1.43.59L10.3 9.45l-7.72 7.72c-.78.78-.78 2.05 0 2.83L4 21.41c.39.39.9.59 1.41.59.51 0 1.02-.2 1.41-.59l7.78-7.78 2.81-2.81c.8-.78.8-2.07 0-2.86zM5.41 20L4 18.59l7.72-7.72 1.47 1.35L5.41 20z\"/>\n",
              "  </svg>\n",
              "      </button>\n",
              "      \n",
              "  <style>\n",
              "    .colab-df-container {\n",
              "      display:flex;\n",
              "      flex-wrap:wrap;\n",
              "      gap: 12px;\n",
              "    }\n",
              "\n",
              "    .colab-df-convert {\n",
              "      background-color: #E8F0FE;\n",
              "      border: none;\n",
              "      border-radius: 50%;\n",
              "      cursor: pointer;\n",
              "      display: none;\n",
              "      fill: #1967D2;\n",
              "      height: 32px;\n",
              "      padding: 0 0 0 0;\n",
              "      width: 32px;\n",
              "    }\n",
              "\n",
              "    .colab-df-convert:hover {\n",
              "      background-color: #E2EBFA;\n",
              "      box-shadow: 0px 1px 2px rgba(60, 64, 67, 0.3), 0px 1px 3px 1px rgba(60, 64, 67, 0.15);\n",
              "      fill: #174EA6;\n",
              "    }\n",
              "\n",
              "    [theme=dark] .colab-df-convert {\n",
              "      background-color: #3B4455;\n",
              "      fill: #D2E3FC;\n",
              "    }\n",
              "\n",
              "    [theme=dark] .colab-df-convert:hover {\n",
              "      background-color: #434B5C;\n",
              "      box-shadow: 0px 1px 3px 1px rgba(0, 0, 0, 0.15);\n",
              "      filter: drop-shadow(0px 1px 2px rgba(0, 0, 0, 0.3));\n",
              "      fill: #FFFFFF;\n",
              "    }\n",
              "  </style>\n",
              "\n",
              "      <script>\n",
              "        const buttonEl =\n",
              "          document.querySelector('#df-90c991f0-f6d5-4d6e-b785-ac194b6e28f4 button.colab-df-convert');\n",
              "        buttonEl.style.display =\n",
              "          google.colab.kernel.accessAllowed ? 'block' : 'none';\n",
              "\n",
              "        async function convertToInteractive(key) {\n",
              "          const element = document.querySelector('#df-90c991f0-f6d5-4d6e-b785-ac194b6e28f4');\n",
              "          const dataTable =\n",
              "            await google.colab.kernel.invokeFunction('convertToInteractive',\n",
              "                                                     [key], {});\n",
              "          if (!dataTable) return;\n",
              "\n",
              "          const docLinkHtml = 'Like what you see? Visit the ' +\n",
              "            '<a target=\"_blank\" href=https://colab.research.google.com/notebooks/data_table.ipynb>data table notebook</a>'\n",
              "            + ' to learn more about interactive tables.';\n",
              "          element.innerHTML = '';\n",
              "          dataTable['output_type'] = 'display_data';\n",
              "          await google.colab.output.renderOutput(dataTable, element);\n",
              "          const docLink = document.createElement('div');\n",
              "          docLink.innerHTML = docLinkHtml;\n",
              "          element.appendChild(docLink);\n",
              "        }\n",
              "      </script>\n",
              "    </div>\n",
              "  </div>\n",
              "  "
            ]
          },
          "metadata": {},
          "execution_count": 136
        }
      ]
    },
    {
      "cell_type": "markdown",
      "source": [
        "##Correlação entre as variáveis"
      ],
      "metadata": {
        "id": "o2k7BakJI8VG"
      }
    },
    {
      "cell_type": "code",
      "source": [
        "plt.figure(figsize=(12,8))\n",
        "sns.heatmap(dados_tratados.corr(), )"
      ],
      "metadata": {
        "colab": {
          "base_uri": "https://localhost:8080/",
          "height": 687
        },
        "id": "X11YcKJNG0O5",
        "outputId": "c89bf3dd-7929-4076-8bf0-73840a3ac3fd"
      },
      "execution_count": 141,
      "outputs": [
        {
          "output_type": "execute_result",
          "data": {
            "text/plain": [
              "<matplotlib.axes._subplots.AxesSubplot at 0x7f8519f04c50>"
            ]
          },
          "metadata": {},
          "execution_count": 141
        },
        {
          "output_type": "display_data",
          "data": {
            "text/plain": [
              "<Figure size 864x576 with 2 Axes>"
            ],
            "image/png": "[encoded data removed]"
          },
          "metadata": {
            "needs_background": "light"
          }
        }
      ]
    },
    {
      "cell_type": "markdown",
      "source": [
        "Como podemos observar, temos algumas correlações entre o status do emprestimo com a pontuacao do emprestimo, a taxa de juros, a porcentagem do salario e se o cliente já foi inadimplente."
      ],
      "metadata": {
        "id": "bYBDYuaEIazR"
      }
    },
    {
      "cell_type": "markdown",
      "source": [
        "##Criação dos modelos"
      ],
      "metadata": {
        "id": "toYOPBR3I4iF"
      }
    },
    {
      "cell_type": "markdown",
      "source": [
        "Para otimizar tempo e hiperparâmetros, irei utilizar funções genéricas para os modelos. Irei utilizar por enquanto a regressão linear, árvore de decisão e Naive Bayes como modelos, já que são os algoritmos mais utilizados para essa finalidade.\n",
        "\n",
        "A função utilizada para rodar os modelos foi criada anteriormente no curso de machine learning da Alura."
      ],
      "metadata": {
        "id": "iultFIOaJMnK"
      }
    },
    {
      "cell_type": "code",
      "source": [
        "from sklearn.metrics import accuracy_score\n",
        "from sklearn.metrics import plot_confusion_matrix\n",
        "from sklearn.metrics import classification_report\n",
        "from sklearn.metrics import roc_curve, roc_auc_score\n",
        "from sklearn.model_selection import train_test_split\n",
        "\n",
        "#funcao 'roda_modelo': ajuste a validacao\n",
        "def roda_modelo(base_dados, classificador):\n",
        "\n",
        "#separando a base de modelagem e variavel resposta\n",
        "\n",
        "    y = base_dados['status_emprestimo']\n",
        "    x = base_dados.drop(columns='status_emprestimo')\n",
        "\n",
        "#separando a base de treino e teste\n",
        "\n",
        "    SEED = 77\n",
        "    treino_x, teste_x, treino_y, teste_y = train_test_split(x, y, test_size=0.30, random_state = SEED)\n",
        "\n",
        "    base_treino = treino_x.shape[0]\n",
        "    base_teste = teste_x.shape[0]\n",
        "    print(f'A base de treino tem {base_treino} elementos e a base de teste tem {base_teste} elementos.')\n",
        "    print(100*'-')\n",
        "\n",
        "#ajustando modelo com base de teste\n",
        "    \n",
        "    modelo = classificador\n",
        "    modelo.fit(treino_x, treino_y)\n",
        "\n",
        "#-------------------------------------------------------------------------------------------------------------------------------------\n",
        "\n",
        "#matriz de confusao\n",
        "\n",
        "    matriz_confusao = plot_confusion_matrix(modelo, teste_x, teste_y, values_format = '.4g', cmap = 'Blues')\n",
        "    plt.title('Matriz de Confusao')\n",
        "    plt.show\n",
        "\n",
        "#classification report\n",
        "\n",
        "    previsoes = modelo.predict(teste_x)\n",
        "\n",
        "    print('\\nClassification Report:')\n",
        "    print(classification_report(teste_y, previsoes))\n",
        "\n",
        "#curva ROC  e AUC\n",
        "\n",
        "    print(100*'-')\n",
        "    prob_previsao = modelo.predict_proba(teste_x)[:,1]\n",
        "   \n",
        "    tfp, tvp, limite = roc_curve(teste_y, prob_previsao)\n",
        "    print('roc_auc:', roc_auc_score(teste_y, prob_previsao))\n",
        "    \n",
        "    plt.subplots(1, figsize=(5,5))\n",
        "    plt.title('Curva ROC')\n",
        "    plt.plot(tfp, tvp)\n",
        "    plt.plot([0, 1], ls=\"--\", c = 'red') #plotando linha pontilhada guia para regressao aleatoria\n",
        "    plt.plot([0, 0], [1, 0], ls=\"--\", c = 'green'), plt.plot([1, 1], ls=\"--\", c = 'green') #plotando linha pontilhada guia para regressao perfeita\n",
        "    plt.ylabel('Sensibilidade')\n",
        "    plt.xlabel('Especificidade')\n",
        "    plt.show() \n",
        "\n",
        "    return modelo, matriz_confusao"
      ],
      "metadata": {
        "id": "6lkTqJ29JJQT"
      },
      "execution_count": 153,
      "outputs": []
    },
    {
      "cell_type": "markdown",
      "source": [
        "###Regressão Linear"
      ],
      "metadata": {
        "id": "0VamcFkLJAxf"
      }
    },
    {
      "cell_type": "code",
      "source": [
        "from sklearn.linear_model import LogisticRegression\n",
        "\n",
        "roda_modelo(dados_tratados, LogisticRegression(max_iter=1000))\n"
      ],
      "metadata": {
        "colab": {
          "base_uri": "https://localhost:8080/",
          "height": 978
        },
        "id": "8ZEjIz3xI_82",
        "outputId": "e440d77e-dc89-441f-8265-96ad712419fa"
      },
      "execution_count": 154,
      "outputs": [
        {
          "output_type": "stream",
          "name": "stdout",
          "text": [
            "A base de treino tem 20043 elementos e a base de teste tem 8591 elementos.\n",
            "----------------------------------------------------------------------------------------------------\n"
          ]
        },
        {
          "output_type": "stream",
          "name": "stderr",
          "text": [
            "/usr/local/lib/python3.7/dist-packages/sklearn/utils/deprecation.py:87: FutureWarning: Function plot_confusion_matrix is deprecated; Function `plot_confusion_matrix` is deprecated in 1.0 and will be removed in 1.2. Use one of the class methods: ConfusionMatrixDisplay.from_predictions or ConfusionMatrixDisplay.from_estimator.\n",
            "  warnings.warn(msg, category=FutureWarning)\n"
          ]
        },
        {
          "output_type": "stream",
          "name": "stdout",
          "text": [
            "\n",
            "Classification Report:\n",
            "              precision    recall  f1-score   support\n",
            "\n",
            "         0.0       0.87      0.95      0.91      6696\n",
            "         1.0       0.75      0.49      0.59      1895\n",
            "\n",
            "    accuracy                           0.85      8591\n",
            "   macro avg       0.81      0.72      0.75      8591\n",
            "weighted avg       0.84      0.85      0.84      8591\n",
            "\n",
            "----------------------------------------------------------------------------------------------------\n",
            "roc_auc: 0.8643457441610475\n"
          ]
        },
        {
          "output_type": "display_data",
          "data": {
            "text/plain": [
              "<Figure size 432x288 with 2 Axes>"
            ],
            "image/png": "[encoded data removed]"
          },
          "metadata": {
            "needs_background": "light"
          }
        },
        {
          "output_type": "display_data",
          "data": {
            "text/plain": [
              "<Figure size 360x360 with 1 Axes>"
            ],
            "image/png": "[encoded data removed]"
          },
          "metadata": {
            "needs_background": "light"
          }
        },
        {
          "output_type": "execute_result",
          "data": {
            "text/plain": [
              "(LogisticRegression(max_iter=1000),\n",
              " <sklearn.metrics._plot.confusion_matrix.ConfusionMatrixDisplay at 0x7f85151e8b90>)"
            ]
          },
          "metadata": {},
          "execution_count": 154
        }
      ]
    },
    {
      "cell_type": "code",
      "source": [
        "from sklearn.dummy import DummyClassifier\n",
        "\n",
        "y = dados_tratados['status_emprestimo']\n",
        "x = dados_tratados.drop(columns='status_emprestimo')\n",
        "\n",
        "dummy = DummyClassifier(strategy=\"stratified\")\n",
        "dummy.fit(x, y)\n",
        "previsoes = dummy.predict(x)\n",
        "dummy.score(x, y)\n",
        "print(classification_report(y, previsoes))\n"
      ],
      "metadata": {
        "colab": {
          "base_uri": "https://localhost:8080/"
        },
        "id": "hetngbyjMi2h",
        "outputId": "fe6bef45-0808-4728-b5ef-8b9adce27d1e"
      },
      "execution_count": 166,
      "outputs": [
        {
          "output_type": "stream",
          "name": "stdout",
          "text": [
            "              precision    recall  f1-score   support\n",
            "\n",
            "         0.0       0.78      0.78      0.78     22431\n",
            "         1.0       0.21      0.21      0.21      6203\n",
            "\n",
            "    accuracy                           0.66     28634\n",
            "   macro avg       0.50      0.50      0.50     28634\n",
            "weighted avg       0.66      0.66      0.66     28634\n",
            "\n"
          ]
        }
      ]
    },
    {
      "cell_type": "markdown",
      "source": [
        "Nosso modelo de regressão linear conseguiu ser melhor do que um modelo aleatório, no entanto, a pontuação de precision e recall ainda estão baixas, principalmente o recall."
      ],
      "metadata": {
        "id": "8Kwv9fLwO1yE"
      }
    },
    {
      "cell_type": "markdown",
      "source": [
        "###Random Forest"
      ],
      "metadata": {
        "id": "44Ga108ePPK_"
      }
    },
    {
      "cell_type": "code",
      "source": [
        "from sklearn.ensemble import RandomForestClassifier\n",
        "\n",
        "roda_modelo(dados_tratados, RandomForestClassifier(n_estimators = 50, max_depth = 10))"
      ],
      "metadata": {
        "colab": {
          "base_uri": "https://localhost:8080/",
          "height": 978
        },
        "id": "5sEd8MNmPQt9",
        "outputId": "1ed4f16f-c659-45f4-d0c0-5902db9d0b7f"
      },
      "execution_count": 168,
      "outputs": [
        {
          "output_type": "stream",
          "name": "stdout",
          "text": [
            "A base de treino tem 20043 elementos e a base de teste tem 8591 elementos.\n",
            "----------------------------------------------------------------------------------------------------\n"
          ]
        },
        {
          "output_type": "stream",
          "name": "stderr",
          "text": [
            "/usr/local/lib/python3.7/dist-packages/sklearn/utils/deprecation.py:87: FutureWarning: Function plot_confusion_matrix is deprecated; Function `plot_confusion_matrix` is deprecated in 1.0 and will be removed in 1.2. Use one of the class methods: ConfusionMatrixDisplay.from_predictions or ConfusionMatrixDisplay.from_estimator.\n",
            "  warnings.warn(msg, category=FutureWarning)\n"
          ]
        },
        {
          "output_type": "stream",
          "name": "stdout",
          "text": [
            "\n",
            "Classification Report:\n",
            "              precision    recall  f1-score   support\n",
            "\n",
            "         0.0       0.92      0.99      0.95      6696\n",
            "         1.0       0.96      0.68      0.79      1895\n",
            "\n",
            "    accuracy                           0.92      8591\n",
            "   macro avg       0.94      0.83      0.87      8591\n",
            "weighted avg       0.93      0.92      0.92      8591\n",
            "\n",
            "----------------------------------------------------------------------------------------------------\n",
            "roc_auc: 0.9172095812724803\n"
          ]
        },
        {
          "output_type": "display_data",
          "data": {
            "text/plain": [
              "<Figure size 432x288 with 2 Axes>"
            ],
            "image/png": "[encoded data removed]"
          },
          "metadata": {
            "needs_background": "light"
          }
        },
        {
          "output_type": "display_data",
          "data": {
            "text/plain": [
              "<Figure size 360x360 with 1 Axes>"
            ],
            "image/png": "[encoded data removed]"
          },
          "metadata": {
            "needs_background": "light"
          }
        },
        {
          "output_type": "execute_result",
          "data": {
            "text/plain": [
              "(RandomForestClassifier(max_depth=10, n_estimators=50),\n",
              " <sklearn.metrics._plot.confusion_matrix.ConfusionMatrixDisplay at 0x7f85153af110>)"
            ]
          },
          "metadata": {},
          "execution_count": 168
        }
      ]
    },
    {
      "cell_type": "markdown",
      "source": [
        "Utilizando o Random Forest com estes parâmetros, podemos observar que o precision e o recall melhoraram drasticamente, sendo um ótimo candidato por enquanto."
      ],
      "metadata": {
        "id": "AEgi73tNQCAT"
      }
    },
    {
      "cell_type": "markdown",
      "source": [
        "###Nayve Bayes"
      ],
      "metadata": {
        "id": "Jd5pi636RWTf"
      }
    },
    {
      "cell_type": "code",
      "source": [
        "from sklearn.naive_bayes import CategoricalNB\n",
        "\n",
        "roda_modelo(dados_tratados, CategoricalNB())"
      ],
      "metadata": {
        "colab": {
          "base_uri": "https://localhost:8080/",
          "height": 978
        },
        "id": "iascijE4P3bL",
        "outputId": "dc2c237f-b61a-4b41-f0e9-7dabd3b0b1ff"
      },
      "execution_count": 170,
      "outputs": [
        {
          "output_type": "stream",
          "name": "stdout",
          "text": [
            "A base de treino tem 20043 elementos e a base de teste tem 8591 elementos.\n",
            "----------------------------------------------------------------------------------------------------\n"
          ]
        },
        {
          "output_type": "stream",
          "name": "stderr",
          "text": [
            "/usr/local/lib/python3.7/dist-packages/sklearn/utils/deprecation.py:87: FutureWarning: Function plot_confusion_matrix is deprecated; Function `plot_confusion_matrix` is deprecated in 1.0 and will be removed in 1.2. Use one of the class methods: ConfusionMatrixDisplay.from_predictions or ConfusionMatrixDisplay.from_estimator.\n",
            "  warnings.warn(msg, category=FutureWarning)\n"
          ]
        },
        {
          "output_type": "stream",
          "name": "stdout",
          "text": [
            "\n",
            "Classification Report:\n",
            "              precision    recall  f1-score   support\n",
            "\n",
            "         0.0       0.87      0.91      0.89      6696\n",
            "         1.0       0.60      0.51      0.55      1895\n",
            "\n",
            "    accuracy                           0.82      8591\n",
            "   macro avg       0.74      0.71      0.72      8591\n",
            "weighted avg       0.81      0.82      0.81      8591\n",
            "\n",
            "----------------------------------------------------------------------------------------------------\n",
            "roc_auc: 0.8270623504600865\n"
          ]
        },
        {
          "output_type": "display_data",
          "data": {
            "text/plain": [
              "<Figure size 432x288 with 2 Axes>"
            ],
            "image/png": "[encoded data removed]"
          },
          "metadata": {
            "needs_background": "light"
          }
        },
        {
          "output_type": "display_data",
          "data": {
            "text/plain": [
              "<Figure size 360x360 with 1 Axes>"
            ],
            "image/png": "[encoded data removed]"
          },
          "metadata": {
            "needs_background": "light"
          }
        },
        {
          "output_type": "execute_result",
          "data": {
            "text/plain": [
              "(CategoricalNB(),\n",
              " <sklearn.metrics._plot.confusion_matrix.ConfusionMatrixDisplay at 0x7f8514e61b10>)"
            ]
          },
          "metadata": {},
          "execution_count": 170
        }
      ]
    },
    {
      "cell_type": "markdown",
      "source": [
        "O Nayve Bayes também não performou muito melhor do que a regressão linear. Resta agora mexer com os hiperparâmetros e balancear melhor a base de dados para poder fazer outros testes."
      ],
      "metadata": {
        "id": "UMnuLLuBTtr-"
      }
    },
    {
      "cell_type": "markdown",
      "source": [
        "##Balanceamento da variável alvo"
      ],
      "metadata": {
        "id": "Lrfqs8l6UgQk"
      }
    },
    {
      "cell_type": "code",
      "source": [
        "from imblearn.over_sampling import RandomOverSampler\n",
        "from imblearn.over_sampling import SMOTE, ADASYN\n",
        "from collections import Counter\n",
        "\n",
        "y = dados_tratados['status_emprestimo']\n",
        "x = dados_tratados.drop(columns='status_emprestimo')\n",
        "ros = RandomOverSampler(random_state=0)\n",
        "x_resampled, y_resampled = ros.fit_resample(x, y)\n",
        "print(sorted(Counter(y_resampled).items()))"
      ],
      "metadata": {
        "colab": {
          "base_uri": "https://localhost:8080/"
        },
        "id": "twgd72jHTs_9",
        "outputId": "dba4c062-32f3-4356-8927-47e56475d913"
      },
      "execution_count": 193,
      "outputs": [
        {
          "output_type": "stream",
          "name": "stdout",
          "text": [
            "[(0.0, 22431), (1.0, 22431)]\n"
          ]
        }
      ]
    },
    {
      "cell_type": "code",
      "source": [
        "x_resampled.head()"
      ],
      "metadata": {
        "colab": {
          "base_uri": "https://localhost:8080/",
          "height": 270
        },
        "id": "ynxym0sRUzjm",
        "outputId": "137c1abb-4d5f-445d-b935-25d05d2a9b29"
      },
      "execution_count": 194,
      "outputs": [
        {
          "output_type": "execute_result",
          "data": {
            "text/plain": [
              "  idade_pessoa salario_pessoa  situacao_propriedade_pessoa  \\\n",
              "0            1              2                            1   \n",
              "1            2              2                            1   \n",
              "2            2              2                            3   \n",
              "3            2              2                            1   \n",
              "4            1              2                            1   \n",
              "\n",
              "   tempo_trabalhado_pessoa  motivo_emprestimo  pontuacao_emprestimo  \\\n",
              "0                      3.0                  5                     1   \n",
              "1                      2.0                  2                     1   \n",
              "2                     11.0                  1                     2   \n",
              "3                      2.0                  1                     1   \n",
              "4                      0.0                  5                     4   \n",
              "\n",
              "  valor_emprestimo  taxa_juros_emprestimo  porcentagem_salario_emprestimo  \\\n",
              "0                7                   6.99                            0.12   \n",
              "1                7                   7.88                            0.16   \n",
              "2               15                  12.18                            0.18   \n",
              "3                4                   8.94                            0.10   \n",
              "4               15                  14.83                            0.27   \n",
              "\n",
              "   foi_inadimplente_cb  tempo_primeira_solicitacao_credito_cb  \n",
              "0                    0                                    0.3  \n",
              "1                    0                                    0.8  \n",
              "2                    0                                    1.0  \n",
              "3                    0                                    1.0  \n",
              "4                    1                                    0.4  "
            ],
            "text/html": [
              "\n",
              "  <div id=\"df-da41f4b6-6eb9-4ca3-b443-debd8f28a906\">\n",
              "    <div class=\"colab-df-container\">\n",
              "      <div>\n",
              "<style scoped>\n",
              "    .dataframe tbody tr th:only-of-type {\n",
              "        vertical-align: middle;\n",
              "    }\n",
              "\n",
              "    .dataframe tbody tr th {\n",
              "        vertical-align: top;\n",
              "    }\n",
              "\n",
              "    .dataframe thead th {\n",
              "        text-align: right;\n",
              "    }\n",
              "</style>\n",
              "<table border=\"1\" class=\"dataframe\">\n",
              "  <thead>\n",
              "    <tr style=\"text-align: right;\">\n",
              "      <th></th>\n",
              "      <th>idade_pessoa</th>\n",
              "      <th>salario_pessoa</th>\n",
              "      <th>situacao_propriedade_pessoa</th>\n",
              "      <th>tempo_trabalhado_pessoa</th>\n",
              "      <th>motivo_emprestimo</th>\n",
              "      <th>pontuacao_emprestimo</th>\n",
              "      <th>valor_emprestimo</th>\n",
              "      <th>taxa_juros_emprestimo</th>\n",
              "      <th>porcentagem_salario_emprestimo</th>\n",
              "      <th>foi_inadimplente_cb</th>\n",
              "      <th>tempo_primeira_solicitacao_credito_cb</th>\n",
              "    </tr>\n",
              "  </thead>\n",
              "  <tbody>\n",
              "    <tr>\n",
              "      <th>0</th>\n",
              "      <td>1</td>\n",
              "      <td>2</td>\n",
              "      <td>1</td>\n",
              "      <td>3.0</td>\n",
              "      <td>5</td>\n",
              "      <td>1</td>\n",
              "      <td>7</td>\n",
              "      <td>6.99</td>\n",
              "      <td>0.12</td>\n",
              "      <td>0</td>\n",
              "      <td>0.3</td>\n",
              "    </tr>\n",
              "    <tr>\n",
              "      <th>1</th>\n",
              "      <td>2</td>\n",
              "      <td>2</td>\n",
              "      <td>1</td>\n",
              "      <td>2.0</td>\n",
              "      <td>2</td>\n",
              "      <td>1</td>\n",
              "      <td>7</td>\n",
              "      <td>7.88</td>\n",
              "      <td>0.16</td>\n",
              "      <td>0</td>\n",
              "      <td>0.8</td>\n",
              "    </tr>\n",
              "    <tr>\n",
              "      <th>2</th>\n",
              "      <td>2</td>\n",
              "      <td>2</td>\n",
              "      <td>3</td>\n",
              "      <td>11.0</td>\n",
              "      <td>1</td>\n",
              "      <td>2</td>\n",
              "      <td>15</td>\n",
              "      <td>12.18</td>\n",
              "      <td>0.18</td>\n",
              "      <td>0</td>\n",
              "      <td>1.0</td>\n",
              "    </tr>\n",
              "    <tr>\n",
              "      <th>3</th>\n",
              "      <td>2</td>\n",
              "      <td>2</td>\n",
              "      <td>1</td>\n",
              "      <td>2.0</td>\n",
              "      <td>1</td>\n",
              "      <td>1</td>\n",
              "      <td>4</td>\n",
              "      <td>8.94</td>\n",
              "      <td>0.10</td>\n",
              "      <td>0</td>\n",
              "      <td>1.0</td>\n",
              "    </tr>\n",
              "    <tr>\n",
              "      <th>4</th>\n",
              "      <td>1</td>\n",
              "      <td>2</td>\n",
              "      <td>1</td>\n",
              "      <td>0.0</td>\n",
              "      <td>5</td>\n",
              "      <td>4</td>\n",
              "      <td>15</td>\n",
              "      <td>14.83</td>\n",
              "      <td>0.27</td>\n",
              "      <td>1</td>\n",
              "      <td>0.4</td>\n",
              "    </tr>\n",
              "  </tbody>\n",
              "</table>\n",
              "</div>\n",
              "      <button class=\"colab-df-convert\" onclick=\"convertToInteractive('df-da41f4b6-6eb9-4ca3-b443-debd8f28a906')\"\n",
              "              title=\"Convert this dataframe to an interactive table.\"\n",
              "              style=\"display:none;\">\n",
              "        \n",
              "  <svg xmlns=\"http://www.w3.org/2000/svg\" height=\"24px\"viewBox=\"0 0 24 24\"\n",
              "       width=\"24px\">\n",
              "    <path d=\"M0 0h24v24H0V0z\" fill=\"none\"/>\n",
              "    <path d=\"M18.56 5.44l.94 2.06.94-2.06 2.06-.94-2.06-.94-.94-2.06-.94 2.06-2.06.94zm-11 1L8.5 8.5l.94-2.06 2.06-.94-2.06-.94L8.5 2.5l-.94 2.06-2.06.94zm10 10l.94 2.06.94-2.06 2.06-.94-2.06-.94-.94-2.06-.94 2.06-2.06.94z\"/><path d=\"M17.41 7.96l-1.37-1.37c-.4-.4-.92-.59-1.43-.59-.52 0-1.04.2-1.43.59L10.3 9.45l-7.72 7.72c-.78.78-.78 2.05 0 2.83L4 21.41c.39.39.9.59 1.41.59.51 0 1.02-.2 1.41-.59l7.78-7.78 2.81-2.81c.8-.78.8-2.07 0-2.86zM5.41 20L4 18.59l7.72-7.72 1.47 1.35L5.41 20z\"/>\n",
              "  </svg>\n",
              "      </button>\n",
              "      \n",
              "  <style>\n",
              "    .colab-df-container {\n",
              "      display:flex;\n",
              "      flex-wrap:wrap;\n",
              "      gap: 12px;\n",
              "    }\n",
              "\n",
              "    .colab-df-convert {\n",
              "      background-color: #E8F0FE;\n",
              "      border: none;\n",
              "      border-radius: 50%;\n",
              "      cursor: pointer;\n",
              "      display: none;\n",
              "      fill: #1967D2;\n",
              "      height: 32px;\n",
              "      padding: 0 0 0 0;\n",
              "      width: 32px;\n",
              "    }\n",
              "\n",
              "    .colab-df-convert:hover {\n",
              "      background-color: #E2EBFA;\n",
              "      box-shadow: 0px 1px 2px rgba(60, 64, 67, 0.3), 0px 1px 3px 1px rgba(60, 64, 67, 0.15);\n",
              "      fill: #174EA6;\n",
              "    }\n",
              "\n",
              "    [theme=dark] .colab-df-convert {\n",
              "      background-color: #3B4455;\n",
              "      fill: #D2E3FC;\n",
              "    }\n",
              "\n",
              "    [theme=dark] .colab-df-convert:hover {\n",
              "      background-color: #434B5C;\n",
              "      box-shadow: 0px 1px 3px 1px rgba(0, 0, 0, 0.15);\n",
              "      filter: drop-shadow(0px 1px 2px rgba(0, 0, 0, 0.3));\n",
              "      fill: #FFFFFF;\n",
              "    }\n",
              "  </style>\n",
              "\n",
              "      <script>\n",
              "        const buttonEl =\n",
              "          document.querySelector('#df-da41f4b6-6eb9-4ca3-b443-debd8f28a906 button.colab-df-convert');\n",
              "        buttonEl.style.display =\n",
              "          google.colab.kernel.accessAllowed ? 'block' : 'none';\n",
              "\n",
              "        async function convertToInteractive(key) {\n",
              "          const element = document.querySelector('#df-da41f4b6-6eb9-4ca3-b443-debd8f28a906');\n",
              "          const dataTable =\n",
              "            await google.colab.kernel.invokeFunction('convertToInteractive',\n",
              "                                                     [key], {});\n",
              "          if (!dataTable) return;\n",
              "\n",
              "          const docLinkHtml = 'Like what you see? Visit the ' +\n",
              "            '<a target=\"_blank\" href=https://colab.research.google.com/notebooks/data_table.ipynb>data table notebook</a>'\n",
              "            + ' to learn more about interactive tables.';\n",
              "          element.innerHTML = '';\n",
              "          dataTable['output_type'] = 'display_data';\n",
              "          await google.colab.output.renderOutput(dataTable, element);\n",
              "          const docLink = document.createElement('div');\n",
              "          docLink.innerHTML = docLinkHtml;\n",
              "          element.appendChild(docLink);\n",
              "        }\n",
              "      </script>\n",
              "    </div>\n",
              "  </div>\n",
              "  "
            ]
          },
          "metadata": {},
          "execution_count": 194
        }
      ]
    },
    {
      "cell_type": "code",
      "source": [
        "x_resampled.isnull().sum()"
      ],
      "metadata": {
        "colab": {
          "base_uri": "https://localhost:8080/"
        },
        "id": "ma5CZORhV9R0",
        "outputId": "d8e7a3f2-5327-453c-d980-f8719108239d"
      },
      "execution_count": 195,
      "outputs": [
        {
          "output_type": "execute_result",
          "data": {
            "text/plain": [
              "idade_pessoa                             0\n",
              "salario_pessoa                           0\n",
              "situacao_propriedade_pessoa              0\n",
              "tempo_trabalhado_pessoa                  0\n",
              "motivo_emprestimo                        0\n",
              "pontuacao_emprestimo                     0\n",
              "valor_emprestimo                         0\n",
              "taxa_juros_emprestimo                    0\n",
              "porcentagem_salario_emprestimo           0\n",
              "foi_inadimplente_cb                      0\n",
              "tempo_primeira_solicitacao_credito_cb    0\n",
              "dtype: int64"
            ]
          },
          "metadata": {},
          "execution_count": 195
        }
      ]
    },
    {
      "cell_type": "code",
      "source": [
        "y_resampled.head()"
      ],
      "metadata": {
        "colab": {
          "base_uri": "https://localhost:8080/"
        },
        "id": "-262uAK3U9-s",
        "outputId": "d8dd71a4-cddb-4b4b-e901-a02be1dd3a0a"
      },
      "execution_count": 196,
      "outputs": [
        {
          "output_type": "execute_result",
          "data": {
            "text/plain": [
              "0    0.0\n",
              "1    0.0\n",
              "2    0.0\n",
              "3    0.0\n",
              "4    1.0\n",
              "Name: status_emprestimo, dtype: float64"
            ]
          },
          "metadata": {},
          "execution_count": 196
        }
      ]
    },
    {
      "cell_type": "code",
      "source": [
        "y_resampled.isnull().sum()"
      ],
      "metadata": {
        "colab": {
          "base_uri": "https://localhost:8080/"
        },
        "id": "XpwOig3wW2Yg",
        "outputId": "b4585737-0c01-4466-bed8-45e206f57fa3"
      },
      "execution_count": 197,
      "outputs": [
        {
          "output_type": "execute_result",
          "data": {
            "text/plain": [
              "0"
            ]
          },
          "metadata": {},
          "execution_count": 197
        }
      ]
    },
    {
      "cell_type": "code",
      "source": [
        "def roda_modelo_balanceado(base_dados, classificador):\n",
        "\n",
        "#separando a base de modelagem e variavel resposta\n",
        "\n",
        "    y = y_resampled\n",
        "    x = x_resampled\n",
        "\n",
        "#separando a base de treino e teste\n",
        "\n",
        "    SEED = 77\n",
        "    treino_x, teste_x, treino_y, teste_y = train_test_split(x, y, test_size=0.30, random_state = SEED)\n",
        "\n",
        "    base_treino = treino_x.shape[0]\n",
        "    base_teste = teste_x.shape[0]\n",
        "    print(f'A base de treino tem {base_treino} elementos e a base de teste tem {base_teste} elementos.')\n",
        "    print(100*'-')\n",
        "\n",
        "#ajustando modelo com base de teste\n",
        "    \n",
        "    modelo = classificador\n",
        "    modelo.fit(treino_x, treino_y)\n",
        "\n",
        "#-------------------------------------------------------------------------------------------------------------------------------------\n",
        "\n",
        "#matriz de confusao\n",
        "\n",
        "    matriz_confusao = plot_confusion_matrix(modelo, teste_x, teste_y, values_format = '.4g', cmap = 'Blues')\n",
        "    plt.title('Matriz de Confusao')\n",
        "    plt.show\n",
        "\n",
        "#classification report\n",
        "\n",
        "    previsoes = modelo.predict(teste_x)\n",
        "\n",
        "    print('\\nClassification Report:')\n",
        "    print(classification_report(teste_y, previsoes))\n",
        "\n",
        "#curva ROC  e AUC\n",
        "\n",
        "    print(100*'-')\n",
        "    prob_previsao = modelo.predict_proba(teste_x)[:,1]\n",
        "   \n",
        "    tfp, tvp, limite = roc_curve(teste_y, prob_previsao)\n",
        "    print('roc_auc:', roc_auc_score(teste_y, prob_previsao))\n",
        "    \n",
        "    plt.subplots(1, figsize=(5,5))\n",
        "    plt.title('Curva ROC')\n",
        "    plt.plot(tfp, tvp)\n",
        "    plt.plot([0, 1], ls=\"--\", c = 'red') #plotando linha pontilhada guia para regressao aleatoria\n",
        "    plt.plot([0, 0], [1, 0], ls=\"--\", c = 'green'), plt.plot([1, 1], ls=\"--\", c = 'green') #plotando linha pontilhada guia para regressao perfeita\n",
        "    plt.ylabel('Sensibilidade')\n",
        "    plt.xlabel('Especificidade')\n",
        "    plt.show() \n",
        "\n",
        "    return modelo, matriz_confusao"
      ],
      "metadata": {
        "id": "7JjNg3pdVIUd"
      },
      "execution_count": 198,
      "outputs": []
    },
    {
      "cell_type": "markdown",
      "source": [
        "###Regressão Linear"
      ],
      "metadata": {
        "id": "xQK1BWAUX0_k"
      }
    },
    {
      "cell_type": "code",
      "source": [
        "roda_modelo_balanceado(dados_tratados, LogisticRegression(max_iter=1000))"
      ],
      "metadata": {
        "colab": {
          "base_uri": "https://localhost:8080/",
          "height": 978
        },
        "id": "0rI-HYc0VbF8",
        "outputId": "503bbb5d-b462-4697-8e4f-9aaa168e614a"
      },
      "execution_count": 199,
      "outputs": [
        {
          "output_type": "stream",
          "name": "stdout",
          "text": [
            "A base de treino tem 31403 elementos e a base de teste tem 13459 elementos.\n",
            "----------------------------------------------------------------------------------------------------\n"
          ]
        },
        {
          "output_type": "stream",
          "name": "stderr",
          "text": [
            "/usr/local/lib/python3.7/dist-packages/sklearn/utils/deprecation.py:87: FutureWarning: Function plot_confusion_matrix is deprecated; Function `plot_confusion_matrix` is deprecated in 1.0 and will be removed in 1.2. Use one of the class methods: ConfusionMatrixDisplay.from_predictions or ConfusionMatrixDisplay.from_estimator.\n",
            "  warnings.warn(msg, category=FutureWarning)\n"
          ]
        },
        {
          "output_type": "stream",
          "name": "stdout",
          "text": [
            "\n",
            "Classification Report:\n",
            "              precision    recall  f1-score   support\n",
            "\n",
            "         0.0       0.79      0.79      0.79      6736\n",
            "         1.0       0.79      0.79      0.79      6723\n",
            "\n",
            "    accuracy                           0.79     13459\n",
            "   macro avg       0.79      0.79      0.79     13459\n",
            "weighted avg       0.79      0.79      0.79     13459\n",
            "\n",
            "----------------------------------------------------------------------------------------------------\n",
            "roc_auc: 0.8668447432732602\n"
          ]
        },
        {
          "output_type": "display_data",
          "data": {
            "text/plain": [
              "<Figure size 432x288 with 2 Axes>"
            ],
            "image/png": "[encoded data removed]"
          },
          "metadata": {
            "needs_background": "light"
          }
        },
        {
          "output_type": "display_data",
          "data": {
            "text/plain": [
              "<Figure size 360x360 with 1 Axes>"
            ],
            "image/png": "[encoded data removed]"
          },
          "metadata": {
            "needs_background": "light"
          }
        },
        {
          "output_type": "execute_result",
          "data": {
            "text/plain": [
              "(LogisticRegression(max_iter=1000),\n",
              " <sklearn.metrics._plot.confusion_matrix.ConfusionMatrixDisplay at 0x7f8514f478d0>)"
            ]
          },
          "metadata": {},
          "execution_count": 199
        }
      ]
    },
    {
      "cell_type": "markdown",
      "source": [
        "O Balanceamento ajudou muito com a Regressão Logística, a precisão não melhorou muito, mas o recall aumentou de 0,49 para 0,79. Indicando que houve sim melhora com o balanceamento."
      ],
      "metadata": {
        "id": "9S1X4hL5Vhxk"
      }
    },
    {
      "cell_type": "markdown",
      "source": [
        "###Random Forest"
      ],
      "metadata": {
        "id": "7q7PBkFMX3ar"
      }
    },
    {
      "cell_type": "code",
      "source": [
        "roda_modelo_balanceado(dados_tratados, RandomForestClassifier(n_estimators = 50, max_depth = 10))"
      ],
      "metadata": {
        "colab": {
          "base_uri": "https://localhost:8080/",
          "height": 978
        },
        "id": "HvU8XXusVd7L",
        "outputId": "9d709eb0-112d-4d6a-ddae-f365a17831e8"
      },
      "execution_count": 200,
      "outputs": [
        {
          "output_type": "stream",
          "name": "stdout",
          "text": [
            "A base de treino tem 31403 elementos e a base de teste tem 13459 elementos.\n",
            "----------------------------------------------------------------------------------------------------\n"
          ]
        },
        {
          "output_type": "stream",
          "name": "stderr",
          "text": [
            "/usr/local/lib/python3.7/dist-packages/sklearn/utils/deprecation.py:87: FutureWarning: Function plot_confusion_matrix is deprecated; Function `plot_confusion_matrix` is deprecated in 1.0 and will be removed in 1.2. Use one of the class methods: ConfusionMatrixDisplay.from_predictions or ConfusionMatrixDisplay.from_estimator.\n",
            "  warnings.warn(msg, category=FutureWarning)\n"
          ]
        },
        {
          "output_type": "stream",
          "name": "stdout",
          "text": [
            "\n",
            "Classification Report:\n",
            "              precision    recall  f1-score   support\n",
            "\n",
            "         0.0       0.82      0.93      0.87      6736\n",
            "         1.0       0.92      0.80      0.85      6723\n",
            "\n",
            "    accuracy                           0.86     13459\n",
            "   macro avg       0.87      0.86      0.86     13459\n",
            "weighted avg       0.87      0.86      0.86     13459\n",
            "\n",
            "----------------------------------------------------------------------------------------------------\n",
            "roc_auc: 0.9383389765625358\n"
          ]
        },
        {
          "output_type": "display_data",
          "data": {
            "text/plain": [
              "<Figure size 432x288 with 2 Axes>"
            ],
            "image/png": "[encoded data removed]"
          },
          "metadata": {
            "needs_background": "light"
          }
        },
        {
          "output_type": "display_data",
          "data": {
            "text/plain": [
              "<Figure size 360x360 with 1 Axes>"
            ],
            "image/png": "[encoded data removed]"
          },
          "metadata": {
            "needs_background": "light"
          }
        },
        {
          "output_type": "execute_result",
          "data": {
            "text/plain": [
              "(RandomForestClassifier(max_depth=10, n_estimators=50),\n",
              " <sklearn.metrics._plot.confusion_matrix.ConfusionMatrixDisplay at 0x7f8511425a90>)"
            ]
          },
          "metadata": {},
          "execution_count": 200
        }
      ]
    },
    {
      "cell_type": "markdown",
      "source": [
        "Mais uma vez, o balanceamento foi de grande ajuda para a performance do modelo, podemos observar que apesar de uma leve piora na precisão, o recall melhorou, assim como na regressão linear."
      ],
      "metadata": {
        "id": "VZDEmHUMYagW"
      }
    },
    {
      "cell_type": "markdown",
      "source": [
        "###Nayve Bayes"
      ],
      "metadata": {
        "id": "kSgxAwcvYulk"
      }
    },
    {
      "cell_type": "code",
      "source": [
        "roda_modelo_balanceado(dados_tratados, CategoricalNB())"
      ],
      "metadata": {
        "colab": {
          "base_uri": "https://localhost:8080/",
          "height": 978
        },
        "id": "dPNyf0QbYt7V",
        "outputId": "e16b1f54-a75b-4d08-95a5-0613ce085d69"
      },
      "execution_count": 201,
      "outputs": [
        {
          "output_type": "stream",
          "name": "stdout",
          "text": [
            "A base de treino tem 31403 elementos e a base de teste tem 13459 elementos.\n",
            "----------------------------------------------------------------------------------------------------\n",
            "\n",
            "Classification Report:\n",
            "              precision    recall  f1-score   support\n",
            "\n",
            "         0.0       0.73      0.79      0.76      6736\n",
            "         1.0       0.77      0.70      0.73      6723\n",
            "\n",
            "    accuracy                           0.75     13459\n",
            "   macro avg       0.75      0.75      0.75     13459\n",
            "weighted avg       0.75      0.75      0.75     13459\n",
            "\n",
            "----------------------------------------------------------------------------------------------------\n",
            "roc_auc: 0.8300836847875358\n"
          ]
        },
        {
          "output_type": "stream",
          "name": "stderr",
          "text": [
            "/usr/local/lib/python3.7/dist-packages/sklearn/utils/deprecation.py:87: FutureWarning: Function plot_confusion_matrix is deprecated; Function `plot_confusion_matrix` is deprecated in 1.0 and will be removed in 1.2. Use one of the class methods: ConfusionMatrixDisplay.from_predictions or ConfusionMatrixDisplay.from_estimator.\n",
            "  warnings.warn(msg, category=FutureWarning)\n"
          ]
        },
        {
          "output_type": "display_data",
          "data": {
            "text/plain": [
              "<Figure size 432x288 with 2 Axes>"
            ],
            "image/png": "[encoded data removed]"
          },
          "metadata": {
            "needs_background": "light"
          }
        },
        {
          "output_type": "display_data",
          "data": {
            "text/plain": [
              "<Figure size 360x360 with 1 Axes>"
            ],
            "image/png": "[encoded data removed]"
          },
          "metadata": {
            "needs_background": "light"
          }
        },
        {
          "output_type": "execute_result",
          "data": {
            "text/plain": [
              "(CategoricalNB(),\n",
              " <sklearn.metrics._plot.confusion_matrix.ConfusionMatrixDisplay at 0x7f8511383790>)"
            ]
          },
          "metadata": {},
          "execution_count": 201
        }
      ]
    },
    {
      "cell_type": "markdown",
      "source": [
        "Também houve melhoras no Nayve Bayes utilizando o balanceamento, no entanto, este modelo ficou um pouco para trás dos outros 2 comparando as métricas."
      ],
      "metadata": {
        "id": "sF34ucqtYzoL"
      }
    },
    {
      "cell_type": "markdown",
      "source": [
        "#Exportando os modelos"
      ],
      "metadata": {
        "id": "brEDtgBGZegG"
      }
    },
    {
      "cell_type": "code",
      "source": [
        "from joblib import Parallel, delayed\n",
        "import joblib\n",
        "\n",
        "regressao_linear, _ = roda_modelo_balanceado(dados_tratados, LogisticRegression(max_iter=1000))\n",
        "\n",
        "joblib.dump(regressao_linear, 'modelo1.pkl')\n",
        "regressao_joblib = knn_from_joblib = joblib.load('modelo1.pkl')\n",
        "regressao_joblib.predict(x_resampled[:3])"
      ],
      "metadata": {
        "colab": {
          "base_uri": "https://localhost:8080/",
          "height": 960
        },
        "id": "01Neuh6GZg7L",
        "outputId": "1c16a8aa-6569-456f-bb59-23eafc1a0d21"
      },
      "execution_count": 214,
      "outputs": [
        {
          "output_type": "stream",
          "name": "stdout",
          "text": [
            "A base de treino tem 31403 elementos e a base de teste tem 13459 elementos.\n",
            "----------------------------------------------------------------------------------------------------\n"
          ]
        },
        {
          "output_type": "stream",
          "name": "stderr",
          "text": [
            "/usr/local/lib/python3.7/dist-packages/sklearn/utils/deprecation.py:87: FutureWarning: Function plot_confusion_matrix is deprecated; Function `plot_confusion_matrix` is deprecated in 1.0 and will be removed in 1.2. Use one of the class methods: ConfusionMatrixDisplay.from_predictions or ConfusionMatrixDisplay.from_estimator.\n",
            "  warnings.warn(msg, category=FutureWarning)\n"
          ]
        },
        {
          "output_type": "stream",
          "name": "stdout",
          "text": [
            "\n",
            "Classification Report:\n",
            "              precision    recall  f1-score   support\n",
            "\n",
            "         0.0       0.79      0.79      0.79      6736\n",
            "         1.0       0.79      0.79      0.79      6723\n",
            "\n",
            "    accuracy                           0.79     13459\n",
            "   macro avg       0.79      0.79      0.79     13459\n",
            "weighted avg       0.79      0.79      0.79     13459\n",
            "\n",
            "----------------------------------------------------------------------------------------------------\n",
            "roc_auc: 0.8668447432732602\n"
          ]
        },
        {
          "output_type": "display_data",
          "data": {
            "text/plain": [
              "<Figure size 432x288 with 2 Axes>"
            ],
            "image/png": "[encoded data removed]"
          },
          "metadata": {
            "needs_background": "light"
          }
        },
        {
          "output_type": "display_data",
          "data": {
            "text/plain": [
              "<Figure size 360x360 with 1 Axes>"
            ],
            "image/png": "[encoded data removed]"
          },
          "metadata": {
            "needs_background": "light"
          }
        },
        {
          "output_type": "execute_result",
          "data": {
            "text/plain": [
              "array([0., 0., 0.])"
            ]
          },
          "metadata": {},
          "execution_count": 214
        }
      ]
    },
    {
      "cell_type": "markdown",
      "source": [
        "Através da biblioteca joblib, consegui salvar o arquivo no formato pkl, e através dele, utilizei o modelo para fazer predições, para provar que está funcionando."
      ],
      "metadata": {
        "id": "FjSntLfEcGWx"
      }
    },
    {
      "cell_type": "markdown",
      "source": [
        "#Considerações Finais"
      ],
      "metadata": {
        "id": "f1hqIGb4cZ8h"
      }
    },
    {
      "cell_type": "markdown",
      "source": [
        "Meu tempo foi muito limitado para focar em colocar a mão na massa para essa semana do desafio, no entanto, estou muito satisfeito com os resultados, consegui tratar a base de dados, fazer o encoding, tratar os outliers, fazer o balanceamento da variável alvo, utilizei 3 algoritmos de machine Learning diferente e consegui exportar um modelo para ser utilizado em outros lugares posteriormente.\n",
        "\n",
        "Sei que ainda há muito o que melhorar, eu não cheguei a testar os hiperparâmetros. A forma em que fiz o enconding não foi a das melhores, já que fiz de forma arbitrária e sei que existem métodos melhores para variáveis categóricas como o One Hot Encoding. Fazendo isso, com certeza irei melhorar bastante as métricas dos resultados obtidos, no entanto, para poder entregar algo para a semana do desafio, optei por manter assim mesmo."
      ],
      "metadata": {
        "id": "pb_c6HVmcceq"
      }
    }
  ]
}